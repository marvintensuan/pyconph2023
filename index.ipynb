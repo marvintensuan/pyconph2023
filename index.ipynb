{
 "cells": [
  {
   "cell_type": "markdown",
   "id": "6f4b7338-8d75-40a8-bbdc-f5f2d061603a",
   "metadata": {
    "slideshow": {
     "slide_type": "slide"
    },
    "tags": []
   },
   "source": [
    "# Object Representation in Jupyter\n",
    "\n",
    "<span style=\"font-size:1rem; font-weight: bold;\">Or how I hacked my way to producing pretty reports with CSS.</span>\n",
    "\n",
    "Prepared by: Marvin Tensuan"
   ]
  },
  {
   "cell_type": "markdown",
   "id": "ef87675b-cbd2-4041-830c-8c1c9eb0a617",
   "metadata": {
    "slideshow": {
     "slide_type": "slide"
    },
    "tags": []
   },
   "source": [
    "## About Me\n",
    "\n",
    "I am...\n",
    "\n",
    "- an accountant 🤓\n",
    "- a Python user since 2016.\n",
    "- Working since 2018 | Investment Banking\n",
    "\n",
    "[![](https://iscaper.com/Images/TwitterIcon.png)]() @marvintensuan    [![](http://www.cloudcompare.org/release/github.png)]() marvintensuan      [![](http://www.michaeldesign.ca/html/images/LinkedIn_Logo20px.png)]() Marvin Tensuan"
   ]
  },
  {
   "cell_type": "markdown",
   "id": "c8e87ecb-9774-40da-943e-d109c9d54681",
   "metadata": {
    "slideshow": {
     "slide_type": "subslide"
    },
    "tags": []
   },
   "source": [
    "As much as Python is widely regarded as a language for everyone, adoption still has a long way to go.\n",
    "\n"
   ]
  },
  {
   "cell_type": "markdown",
   "id": "a7f0e9c8-fc99-4a00-932c-6b43db4764b4",
   "metadata": {
    "slideshow": {
     "slide_type": "slide"
    },
    "tags": []
   },
   "source": [
    "## Why Jupyter Notebooks?"
   ]
  },
  {
   "cell_type": "markdown",
   "id": "c208c6fb-651a-4712-aa48-2769641d46a7",
   "metadata": {
    "slideshow": {
     "slide_type": "subslide"
    },
    "tags": []
   },
   "source": [
    "yada yada yada"
   ]
  },
  {
   "cell_type": "markdown",
   "id": "1ab40f47-3bde-4d24-9fd1-4bbb2b570c4e",
   "metadata": {
    "slideshow": {
     "slide_type": "subslide"
    },
    "tags": []
   },
   "source": [
    "yada yada yada"
   ]
  },
  {
   "cell_type": "markdown",
   "id": "750baaed-5c81-4d7d-99c3-f11e107953f9",
   "metadata": {
    "slideshow": {
     "slide_type": "slide"
    },
    "tags": []
   },
   "source": [
    "## The \\_repr\\_html_ method"
   ]
  },
  {
   "cell_type": "code",
   "execution_count": 1,
   "id": "9408b365-ab6d-46b2-a092-f5a6ea303fb0",
   "metadata": {
    "tags": []
   },
   "outputs": [
    {
     "data": {
      "text/html": [
       "\n",
       "            <style>\n",
       "              #hello-world-python {\n",
       "                background-color: #d3d3d3;\n",
       "                font-family: Papyrus;\n",
       "                font-size: 30px;\n",
       "                \n",
       "                text-align: center;\n",
       "              }\n",
       "            </style>\n",
       "            <div id=\"hello-world-python\">\n",
       "            T'is but a scratch!\n",
       "            </div>\n",
       "        "
      ],
      "text/plain": [
       "<__main__.HolyGrailReference at 0x257f4fefd60>"
      ]
     },
     "execution_count": 1,
     "metadata": {},
     "output_type": "execute_result"
    }
   ],
   "source": [
    "class HolyGrailReference:\n",
    "    def _repr_html_(self):\n",
    "        return \"\"\"\n",
    "            <style>\n",
    "              #hello-world-python {\n",
    "                background-color: #d3d3d3;\n",
    "                font-family: Papyrus;\n",
    "                font-size: 30px;\n",
    "                \n",
    "                text-align: center;\n",
    "              }\n",
    "            </style>\n",
    "            <div id=\"hello-world-python\">\n",
    "            T'is but a scratch!\n",
    "            </div>\n",
    "        \"\"\"\n",
    "    \n",
    "HolyGrailReference()"
   ]
  },
  {
   "cell_type": "code",
   "execution_count": 2,
   "id": "72e045fa-8ceb-4278-a292-c8bc75cabead",
   "metadata": {
    "slideshow": {
     "slide_type": "subslide"
    },
    "tags": []
   },
   "outputs": [
    {
     "data": {
      "text/html": [
       "\n",
       "          <style>\n",
       "            #flex-row-sample {\n",
       "              display: flex;\n",
       "              flex-direction: row;\n",
       "            }\n",
       "            #flex-row-sample .child {\n",
       "              margin: auto;\n",
       "              background-color: #d3d3d3;\n",
       "            } \n",
       "          </style>\n",
       "          <div id=\"flex-row-sample\">\n",
       "            <div class=\"child\">This is the first one.</div>\n",
       "            <div class=\"child\">This is the second one.</div>\n",
       "          </div>       \n",
       "        "
      ],
      "text/plain": [
       "<__main__.FlexRow at 0x257f4fefd90>"
      ]
     },
     "execution_count": 2,
     "metadata": {},
     "output_type": "execute_result"
    }
   ],
   "source": [
    "class FlexRow:\n",
    "    def _repr_html_(self):\n",
    "        return \"\"\"\n",
    "          <style>\n",
    "            #flex-row-sample {\n",
    "              display: flex;\n",
    "              flex-direction: row;\n",
    "            }\n",
    "            #flex-row-sample .child {\n",
    "              margin: auto;\n",
    "              background-color: #d3d3d3;\n",
    "            } \n",
    "          </style>\n",
    "          <div id=\"flex-row-sample\">\n",
    "            <div class=\"child\">This is the first one.</div>\n",
    "            <div class=\"child\">This is the second one.</div>\n",
    "          </div>       \n",
    "        \"\"\"\n",
    "\n",
    "FlexRow()"
   ]
  },
  {
   "cell_type": "code",
   "execution_count": 3,
   "id": "89c6ef02-d35d-4c85-b138-e875146232d1",
   "metadata": {
    "slideshow": {
     "slide_type": "subslide"
    },
    "tags": []
   },
   "outputs": [
    {
     "data": {
      "text/html": [
       "\n",
       "          <style>\n",
       "            #flex-col-sample {\n",
       "              display: flex;\n",
       "              flex-direction: column;\n",
       "            }\n",
       "            #flex-col-sample .child {\n",
       "              margin: auto;\n",
       "              background-color: #d3d3d3;\n",
       "            } \n",
       "          </style>\n",
       "          <div id=\"flex-col-sample\">\n",
       "            <div class=\"child\">This is the first one.</div>\n",
       "            <div class=\"child\">This is the second one.</div>\n",
       "          </div>       \n",
       "        "
      ],
      "text/plain": [
       "<__main__.FlexColumn at 0x257f4f463e0>"
      ]
     },
     "execution_count": 3,
     "metadata": {},
     "output_type": "execute_result"
    }
   ],
   "source": [
    "class FlexColumn:\n",
    "    def _repr_html_(self):\n",
    "        return \"\"\"\n",
    "          <style>\n",
    "            #flex-col-sample {\n",
    "              display: flex;\n",
    "              flex-direction: column;\n",
    "            }\n",
    "            #flex-col-sample .child {\n",
    "              margin: auto;\n",
    "              background-color: #d3d3d3;\n",
    "            } \n",
    "          </style>\n",
    "          <div id=\"flex-col-sample\">\n",
    "            <div class=\"child\">This is the first one.</div>\n",
    "            <div class=\"child\">This is the second one.</div>\n",
    "          </div>       \n",
    "        \"\"\"\n",
    "\n",
    "FlexColumn()"
   ]
  },
  {
   "cell_type": "markdown",
   "id": "eca9574b-f82f-4a87-892a-8c87dfb348a5",
   "metadata": {
    "slideshow": {
     "slide_type": "slide"
    },
    "tags": []
   },
   "source": [
    "## latexify"
   ]
  },
  {
   "cell_type": "code",
   "execution_count": 4,
   "id": "f4604741-3be7-4979-99de-d087d41bcc99",
   "metadata": {},
   "outputs": [
    {
     "data": {
      "text/latex": [
       "$$ \\displaystyle \\begin{array}{l} m = \\mathrm{len}\\left(y\\right) \\\\ \\frac{{1}}{{2} m} \\sum \\left({\\mathrm{h}\\left(X\\right) - y}\\right)^{{2}} \\end{array} $$"
      ],
      "text/plain": [
       "<latexify.frontend.LatexifiedFunction at 0x257f4fefca0>"
      ]
     },
     "execution_count": 4,
     "metadata": {},
     "output_type": "execute_result"
    }
   ],
   "source": [
    "import latexify\n",
    "\n",
    "from typing import Callable, Sequence, TypeVar\n",
    "T = TypeVar(\"T\")\n",
    "\n",
    "@latexify.expression\n",
    "def linreg(\n",
    "    X: T,\n",
    "    y: Sequence,\n",
    "    h: Callable[T, Sequence],\n",
    ") -> Sequence:\n",
    "    # A basic regression equation. :D\n",
    "    m = len(y)\n",
    "    return (1/(2*m)) * (sum(h(X) - y) ** 2)\n",
    "\n",
    "linreg"
   ]
  },
  {
   "cell_type": "markdown",
   "id": "d02de3e2-fd7e-4317-aeac-c5405e827325",
   "metadata": {
    "slideshow": {
     "slide_type": "slide"
    },
    "tags": []
   },
   "source": [
    "## pandas"
   ]
  },
  {
   "cell_type": "code",
   "execution_count": 5,
   "id": "4ea56eb6-7137-4d26-b700-ebc285f96380",
   "metadata": {
    "slideshow": {
     "slide_type": "subslide"
    },
    "tags": []
   },
   "outputs": [],
   "source": [
    "from inspect import getsource\n",
    "\n",
    "from rich import print\n",
    "from pandas import DataFrame\n",
    "import numpy as np"
   ]
  },
  {
   "cell_type": "code",
   "execution_count": 6,
   "id": "a24b21e6-da19-4e80-a107-9d8e34daeb63",
   "metadata": {
    "slideshow": {
     "slide_type": "subslide"
    },
    "tags": []
   },
   "outputs": [
    {
     "data": {
      "text/html": [
       "<pre style=\"white-space:pre;overflow-x:auto;line-height:normal;font-family:Menlo,'DejaVu Sans Mono',consolas,'Courier New',monospace\">    def <span style=\"color: #800080; text-decoration-color: #800080; font-weight: bold\">_repr_html_</span><span style=\"font-weight: bold\">(</span>self<span style=\"font-weight: bold\">)</span> -&gt; str | <span style=\"color: #800080; text-decoration-color: #800080; font-style: italic\">None</span>:\n",
       "        <span style=\"color: #008000; text-decoration-color: #008000\">\"\"</span>\"\n",
       "        Return a html representation for a particular DataFrame.\n",
       "\n",
       "        Mainly for IPython notebook.\n",
       "        <span style=\"color: #008000; text-decoration-color: #008000\">\"\"</span>\"\n",
       "        if <span style=\"color: #800080; text-decoration-color: #800080; font-weight: bold\">self._info_repr</span><span style=\"font-weight: bold\">()</span>:\n",
       "            buf = <span style=\"color: #800080; text-decoration-color: #800080; font-weight: bold\">StringIO</span><span style=\"font-weight: bold\">()</span>\n",
       "            <span style=\"color: #800080; text-decoration-color: #800080; font-weight: bold\">self.info</span><span style=\"font-weight: bold\">(</span><span style=\"color: #808000; text-decoration-color: #808000\">buf</span>=<span style=\"color: #800080; text-decoration-color: #800080\">buf</span><span style=\"font-weight: bold\">)</span>\n",
       "            # need to escape the <span style=\"font-weight: bold\">&lt;</span><span style=\"color: #ff00ff; text-decoration-color: #ff00ff; font-weight: bold\">class</span><span style=\"font-weight: bold\">&gt;</span>, should be the first line.\n",
       "            val = <span style=\"color: #800080; text-decoration-color: #800080; font-weight: bold\">buf.getvalue</span><span style=\"font-weight: bold\">()</span><span style=\"color: #800080; text-decoration-color: #800080; font-weight: bold\">.replace</span><span style=\"font-weight: bold\">(</span><span style=\"color: #008000; text-decoration-color: #008000\">\"&lt;\"</span><span style=\"color: #000000; text-decoration-color: #000000\">, r\"&amp;lt;\", </span><span style=\"color: #008080; text-decoration-color: #008080; font-weight: bold\">1</span><span style=\"color: #000000; text-decoration-color: #000000; font-weight: bold\">)</span>\n",
       "<span style=\"color: #000000; text-decoration-color: #000000\">            val = </span><span style=\"color: #800080; text-decoration-color: #800080; font-weight: bold\">val.replace</span><span style=\"color: #000000; text-decoration-color: #000000; font-weight: bold\">(</span><span style=\"color: #008000; text-decoration-color: #008000\">\"&gt;\"</span>, r\"&amp;gt;\", <span style=\"color: #008080; text-decoration-color: #008080; font-weight: bold\">1</span><span style=\"font-weight: bold\">)</span>\n",
       "            return <span style=\"color: #008000; text-decoration-color: #008000\">\"&lt;pre&gt;\"</span> + val + <span style=\"color: #008000; text-decoration-color: #008000\">\"&lt;/pre&gt;\"</span>\n",
       "\n",
       "        if <span style=\"color: #800080; text-decoration-color: #800080; font-weight: bold\">get_option</span><span style=\"font-weight: bold\">(</span><span style=\"color: #008000; text-decoration-color: #008000\">\"display.notebook_repr_html\"</span><span style=\"font-weight: bold\">)</span>:\n",
       "</pre>\n"
      ],
      "text/plain": [
       "    def \u001b[1;35m_repr_html_\u001b[0m\u001b[1m(\u001b[0mself\u001b[1m)\u001b[0m -> str | \u001b[3;35mNone\u001b[0m:\n",
       "        \u001b[32m\"\"\u001b[0m\"\n",
       "        Return a html representation for a particular DataFrame.\n",
       "\n",
       "        Mainly for IPython notebook.\n",
       "        \u001b[32m\"\"\u001b[0m\"\n",
       "        if \u001b[1;35mself._info_repr\u001b[0m\u001b[1m(\u001b[0m\u001b[1m)\u001b[0m:\n",
       "            buf = \u001b[1;35mStringIO\u001b[0m\u001b[1m(\u001b[0m\u001b[1m)\u001b[0m\n",
       "            \u001b[1;35mself.info\u001b[0m\u001b[1m(\u001b[0m\u001b[33mbuf\u001b[0m=\u001b[35mbuf\u001b[0m\u001b[1m)\u001b[0m\n",
       "            # need to escape the \u001b[1m<\u001b[0m\u001b[1;95mclass\u001b[0m\u001b[1m>\u001b[0m, should be the first line.\n",
       "            val = \u001b[1;35mbuf.getvalue\u001b[0m\u001b[1m(\u001b[0m\u001b[1m)\u001b[0m\u001b[1;35m.replace\u001b[0m\u001b[1m(\u001b[0m\u001b[32m\"\u001b[0m\u001b[32m<\u001b[0m\u001b[32m\"\u001b[0m\u001b[39m, r\"&lt;\", \u001b[0m\u001b[1;36m1\u001b[0m\u001b[1;39m)\u001b[0m\n",
       "\u001b[39m            val = \u001b[0m\u001b[1;35mval.replace\u001b[0m\u001b[1;39m(\u001b[0m\u001b[32m\"\u001b[0m\u001b[32m>\u001b[0m\u001b[32m\"\u001b[0m, r\"&gt;\", \u001b[1;36m1\u001b[0m\u001b[1m)\u001b[0m\n",
       "            return \u001b[32m\"\u001b[0m\u001b[32m<\u001b[0m\u001b[32mpre\u001b[0m\u001b[32m>\u001b[0m\u001b[32m\"\u001b[0m + val + \u001b[32m\"\u001b[0m\u001b[32m<\u001b[0m\u001b[32m/pre\u001b[0m\u001b[32m>\u001b[0m\u001b[32m\"\u001b[0m\n",
       "\n",
       "        if \u001b[1;35mget_option\u001b[0m\u001b[1m(\u001b[0m\u001b[32m\"display.notebook_repr_html\"\u001b[0m\u001b[1m)\u001b[0m:\n"
      ]
     },
     "metadata": {},
     "output_type": "display_data"
    }
   ],
   "source": [
    "df_src = getsource(DataFrame._repr_html_)\n",
    "print(df_src[:528])"
   ]
  },
  {
   "cell_type": "code",
   "execution_count": 7,
   "id": "0c4f2b66-f57e-4900-8846-7fd5abd8ef3a",
   "metadata": {
    "slideshow": {
     "slide_type": "subslide"
    },
    "tags": [
     "remove_input"
    ]
   },
   "outputs": [
    {
     "data": {
      "text/html": [
       "<pre style=\"white-space:pre;overflow-x:auto;line-height:normal;font-family:Menlo,'DejaVu Sans Mono',consolas,'Courier New',monospace\">\n",
       "            max_rows = <span style=\"color: #800080; text-decoration-color: #800080; font-weight: bold\">get_option</span><span style=\"font-weight: bold\">(</span><span style=\"color: #008000; text-decoration-color: #008000\">\"display.max_rows\"</span><span style=\"font-weight: bold\">)</span>\n",
       "            min_rows = <span style=\"color: #800080; text-decoration-color: #800080; font-weight: bold\">get_option</span><span style=\"font-weight: bold\">(</span><span style=\"color: #008000; text-decoration-color: #008000\">\"display.min_rows\"</span><span style=\"font-weight: bold\">)</span>\n",
       "            max_cols = <span style=\"color: #800080; text-decoration-color: #800080; font-weight: bold\">get_option</span><span style=\"font-weight: bold\">(</span><span style=\"color: #008000; text-decoration-color: #008000\">\"display.max_columns\"</span><span style=\"font-weight: bold\">)</span>\n",
       "            show_dimensions = <span style=\"color: #800080; text-decoration-color: #800080; font-weight: bold\">get_option</span><span style=\"font-weight: bold\">(</span><span style=\"color: #008000; text-decoration-color: #008000\">\"display.show_dimensions\"</span><span style=\"font-weight: bold\">)</span>\n",
       "\n",
       "            formatter = <span style=\"color: #800080; text-decoration-color: #800080; font-weight: bold\">fmt.DataFrameFormatter</span><span style=\"font-weight: bold\">(</span>\n",
       "                self,\n",
       "                <span style=\"color: #808000; text-decoration-color: #808000\">columns</span>=<span style=\"color: #800080; text-decoration-color: #800080; font-style: italic\">None</span>,\n",
       "                <span style=\"color: #808000; text-decoration-color: #808000\">col_space</span>=<span style=\"color: #800080; text-decoration-color: #800080; font-style: italic\">None</span>,\n",
       "                <span style=\"color: #808000; text-decoration-color: #808000\">na_rep</span>=<span style=\"color: #008000; text-decoration-color: #008000\">\"NaN\"</span>,\n",
       "                <span style=\"color: #808000; text-decoration-color: #808000\">formatters</span>=<span style=\"color: #800080; text-decoration-color: #800080; font-style: italic\">None</span>,\n",
       "                <span style=\"color: #808000; text-decoration-color: #808000\">float_format</span>=<span style=\"color: #800080; text-decoration-color: #800080; font-style: italic\">None</span>,\n",
       "                <span style=\"color: #808000; text-decoration-color: #808000\">sparsify</span>=<span style=\"color: #800080; text-decoration-color: #800080; font-style: italic\">None</span>,\n",
       "                <span style=\"color: #808000; text-decoration-color: #808000\">justify</span>=<span style=\"color: #800080; text-decoration-color: #800080; font-style: italic\">None</span>,\n",
       "                <span style=\"color: #808000; text-decoration-color: #808000\">index_names</span>=<span style=\"color: #00ff00; text-decoration-color: #00ff00; font-style: italic\">True</span>,\n",
       "                <span style=\"color: #808000; text-decoration-color: #808000\">header</span>=<span style=\"color: #00ff00; text-decoration-color: #00ff00; font-style: italic\">True</span>,\n",
       "                <span style=\"color: #808000; text-decoration-color: #808000\">index</span>=<span style=\"color: #00ff00; text-decoration-color: #00ff00; font-style: italic\">True</span>,\n",
       "                <span style=\"color: #808000; text-decoration-color: #808000\">bold_rows</span>=<span style=\"color: #00ff00; text-decoration-color: #00ff00; font-style: italic\">True</span>,\n",
       "                <span style=\"color: #808000; text-decoration-color: #808000\">escape</span>=<span style=\"color: #00ff00; text-decoration-color: #00ff00; font-style: italic\">True</span>,\n",
       "                <span style=\"color: #808000; text-decoration-color: #808000\">max_rows</span>=<span style=\"color: #800080; text-decoration-color: #800080\">max_rows</span>,\n",
       "                <span style=\"color: #808000; text-decoration-color: #808000\">min_rows</span>=<span style=\"color: #800080; text-decoration-color: #800080\">min_rows</span>,\n",
       "                <span style=\"color: #808000; text-decoration-color: #808000\">max_cols</span>=<span style=\"color: #800080; text-decoration-color: #800080\">max_cols</span>,\n",
       "                <span style=\"color: #808000; text-decoration-color: #808000\">show_dimensions</span>=<span style=\"color: #800080; text-decoration-color: #800080\">show_dimensions</span>,\n",
       "                <span style=\"color: #808000; text-decoration-color: #808000\">decimal</span>=<span style=\"color: #008000; text-decoration-color: #008000\">\".\"</span>,\n",
       "            <span style=\"font-weight: bold\">)</span>\n",
       "            return <span style=\"color: #800080; text-decoration-color: #800080; font-weight: bold\">fmt.DataFrameRenderer</span><span style=\"font-weight: bold\">(</span>formatter<span style=\"font-weight: bold\">)</span><span style=\"color: #800080; text-decoration-color: #800080; font-weight: bold\">.to_html</span><span style=\"font-weight: bold\">(</span><span style=\"color: #808000; text-decoration-color: #808000\">notebook</span>=<span style=\"color: #00ff00; text-decoration-color: #00ff00; font-style: italic\">True</span><span style=\"font-weight: bold\">)</span>\n",
       "        else:\n",
       "            return <span style=\"color: #800080; text-decoration-color: #800080; font-style: italic\">None</span>\n",
       "\n",
       "</pre>\n"
      ],
      "text/plain": [
       "\n",
       "            max_rows = \u001b[1;35mget_option\u001b[0m\u001b[1m(\u001b[0m\u001b[32m\"display.max_rows\"\u001b[0m\u001b[1m)\u001b[0m\n",
       "            min_rows = \u001b[1;35mget_option\u001b[0m\u001b[1m(\u001b[0m\u001b[32m\"display.min_rows\"\u001b[0m\u001b[1m)\u001b[0m\n",
       "            max_cols = \u001b[1;35mget_option\u001b[0m\u001b[1m(\u001b[0m\u001b[32m\"display.max_columns\"\u001b[0m\u001b[1m)\u001b[0m\n",
       "            show_dimensions = \u001b[1;35mget_option\u001b[0m\u001b[1m(\u001b[0m\u001b[32m\"display.show_dimensions\"\u001b[0m\u001b[1m)\u001b[0m\n",
       "\n",
       "            formatter = \u001b[1;35mfmt.DataFrameFormatter\u001b[0m\u001b[1m(\u001b[0m\n",
       "                self,\n",
       "                \u001b[33mcolumns\u001b[0m=\u001b[3;35mNone\u001b[0m,\n",
       "                \u001b[33mcol_space\u001b[0m=\u001b[3;35mNone\u001b[0m,\n",
       "                \u001b[33mna_rep\u001b[0m=\u001b[32m\"NaN\"\u001b[0m,\n",
       "                \u001b[33mformatters\u001b[0m=\u001b[3;35mNone\u001b[0m,\n",
       "                \u001b[33mfloat_format\u001b[0m=\u001b[3;35mNone\u001b[0m,\n",
       "                \u001b[33msparsify\u001b[0m=\u001b[3;35mNone\u001b[0m,\n",
       "                \u001b[33mjustify\u001b[0m=\u001b[3;35mNone\u001b[0m,\n",
       "                \u001b[33mindex_names\u001b[0m=\u001b[3;92mTrue\u001b[0m,\n",
       "                \u001b[33mheader\u001b[0m=\u001b[3;92mTrue\u001b[0m,\n",
       "                \u001b[33mindex\u001b[0m=\u001b[3;92mTrue\u001b[0m,\n",
       "                \u001b[33mbold_rows\u001b[0m=\u001b[3;92mTrue\u001b[0m,\n",
       "                \u001b[33mescape\u001b[0m=\u001b[3;92mTrue\u001b[0m,\n",
       "                \u001b[33mmax_rows\u001b[0m=\u001b[35mmax_rows\u001b[0m,\n",
       "                \u001b[33mmin_rows\u001b[0m=\u001b[35mmin_rows\u001b[0m,\n",
       "                \u001b[33mmax_cols\u001b[0m=\u001b[35mmax_cols\u001b[0m,\n",
       "                \u001b[33mshow_dimensions\u001b[0m=\u001b[35mshow_dimensions\u001b[0m,\n",
       "                \u001b[33mdecimal\u001b[0m=\u001b[32m\".\"\u001b[0m,\n",
       "            \u001b[1m)\u001b[0m\n",
       "            return \u001b[1;35mfmt.DataFrameRenderer\u001b[0m\u001b[1m(\u001b[0mformatter\u001b[1m)\u001b[0m\u001b[1;35m.to_html\u001b[0m\u001b[1m(\u001b[0m\u001b[33mnotebook\u001b[0m=\u001b[3;92mTrue\u001b[0m\u001b[1m)\u001b[0m\n",
       "        else:\n",
       "            return \u001b[3;35mNone\u001b[0m\n",
       "\n"
      ]
     },
     "metadata": {},
     "output_type": "display_data"
    }
   ],
   "source": [
    "print(df_src[528:])"
   ]
  },
  {
   "cell_type": "code",
   "execution_count": 8,
   "id": "84df4a42-5a25-44ce-a3a3-87c9e615df61",
   "metadata": {
    "slideshow": {
     "slide_type": "subslide"
    },
    "tags": []
   },
   "outputs": [
    {
     "data": {
      "text/html": [
       "<pre style=\"white-space:pre;overflow-x:auto;line-height:normal;font-family:Menlo,'DejaVu Sans Mono',consolas,'Courier New',monospace\"><span style=\"font-weight: bold\">&lt;</span><span style=\"color: #ff00ff; text-decoration-color: #ff00ff; font-weight: bold\">table</span><span style=\"color: #000000; text-decoration-color: #000000\"> </span><span style=\"color: #808000; text-decoration-color: #808000\">border</span><span style=\"color: #000000; text-decoration-color: #000000\">=</span><span style=\"color: #008000; text-decoration-color: #008000\">\"1\"</span><span style=\"color: #000000; text-decoration-color: #000000\"> </span><span style=\"color: #808000; text-decoration-color: #808000\">class</span><span style=\"color: #000000; text-decoration-color: #000000\">=</span><span style=\"color: #008000; text-decoration-color: #008000\">\"dataframe\"</span><span style=\"font-weight: bold\">&gt;</span>\n",
       "  <span style=\"font-weight: bold\">&lt;</span><span style=\"color: #ff00ff; text-decoration-color: #ff00ff; font-weight: bold\">thead</span><span style=\"font-weight: bold\">&gt;</span>\n",
       "    <span style=\"font-weight: bold\">&lt;</span><span style=\"color: #ff00ff; text-decoration-color: #ff00ff; font-weight: bold\">tr</span><span style=\"color: #000000; text-decoration-color: #000000\"> </span><span style=\"color: #808000; text-decoration-color: #808000\">style</span><span style=\"color: #000000; text-decoration-color: #000000\">=</span><span style=\"color: #008000; text-decoration-color: #008000\">\"text-align: right;\"</span><span style=\"font-weight: bold\">&gt;</span>\n",
       "      <span style=\"font-weight: bold\">&lt;</span><span style=\"color: #ff00ff; text-decoration-color: #ff00ff; font-weight: bold\">th</span><span style=\"font-weight: bold\">&gt;&lt;</span><span style=\"color: #800080; text-decoration-color: #800080\">/</span><span style=\"color: #ff00ff; text-decoration-color: #ff00ff\">th</span><span style=\"font-weight: bold\">&gt;</span>\n",
       "      <span style=\"font-weight: bold\">&lt;</span><span style=\"color: #ff00ff; text-decoration-color: #ff00ff; font-weight: bold\">th</span><span style=\"font-weight: bold\">&gt;</span>A<span style=\"font-weight: bold\">&lt;</span><span style=\"color: #800080; text-decoration-color: #800080\">/</span><span style=\"color: #ff00ff; text-decoration-color: #ff00ff\">th</span><span style=\"font-weight: bold\">&gt;</span>\n",
       "      <span style=\"font-weight: bold\">&lt;</span><span style=\"color: #ff00ff; text-decoration-color: #ff00ff; font-weight: bold\">th</span><span style=\"font-weight: bold\">&gt;</span>B<span style=\"font-weight: bold\">&lt;</span><span style=\"color: #800080; text-decoration-color: #800080\">/</span><span style=\"color: #ff00ff; text-decoration-color: #ff00ff\">th</span><span style=\"font-weight: bold\">&gt;</span>\n",
       "      <span style=\"font-weight: bold\">&lt;</span><span style=\"color: #ff00ff; text-decoration-color: #ff00ff; font-weight: bold\">th</span><span style=\"font-weight: bold\">&gt;</span>C<span style=\"font-weight: bold\">&lt;</span><span style=\"color: #800080; text-decoration-color: #800080\">/</span><span style=\"color: #ff00ff; text-decoration-color: #ff00ff\">th</span><span style=\"font-weight: bold\">&gt;</span>\n",
       "      <span style=\"font-weight: bold\">&lt;</span><span style=\"color: #ff00ff; text-decoration-color: #ff00ff; font-weight: bold\">th</span><span style=\"font-weight: bold\">&gt;</span>D<span style=\"font-weight: bold\">&lt;</span><span style=\"color: #800080; text-decoration-color: #800080\">/</span><span style=\"color: #ff00ff; text-decoration-color: #ff00ff\">th</span><span style=\"font-weight: bold\">&gt;</span>\n",
       "\n",
       "</pre>\n"
      ],
      "text/plain": [
       "\u001b[1m<\u001b[0m\u001b[1;95mtable\u001b[0m\u001b[39m \u001b[0m\u001b[33mborder\u001b[0m\u001b[39m=\u001b[0m\u001b[32m\"1\"\u001b[0m\u001b[39m \u001b[0m\u001b[33mclass\u001b[0m\u001b[39m=\u001b[0m\u001b[32m\"dataframe\"\u001b[0m\u001b[1m>\u001b[0m\n",
       "  \u001b[1m<\u001b[0m\u001b[1;95mthead\u001b[0m\u001b[1m>\u001b[0m\n",
       "    \u001b[1m<\u001b[0m\u001b[1;95mtr\u001b[0m\u001b[39m \u001b[0m\u001b[33mstyle\u001b[0m\u001b[39m=\u001b[0m\u001b[32m\"text\u001b[0m\u001b[32m-align: right;\"\u001b[0m\u001b[1m>\u001b[0m\n",
       "      \u001b[1m<\u001b[0m\u001b[1;95mth\u001b[0m\u001b[1m>\u001b[0m\u001b[1m<\u001b[0m\u001b[35m/\u001b[0m\u001b[95mth\u001b[0m\u001b[1m>\u001b[0m\n",
       "      \u001b[1m<\u001b[0m\u001b[1;95mth\u001b[0m\u001b[1m>\u001b[0mA\u001b[1m<\u001b[0m\u001b[35m/\u001b[0m\u001b[95mth\u001b[0m\u001b[1m>\u001b[0m\n",
       "      \u001b[1m<\u001b[0m\u001b[1;95mth\u001b[0m\u001b[1m>\u001b[0mB\u001b[1m<\u001b[0m\u001b[35m/\u001b[0m\u001b[95mth\u001b[0m\u001b[1m>\u001b[0m\n",
       "      \u001b[1m<\u001b[0m\u001b[1;95mth\u001b[0m\u001b[1m>\u001b[0mC\u001b[1m<\u001b[0m\u001b[35m/\u001b[0m\u001b[95mth\u001b[0m\u001b[1m>\u001b[0m\n",
       "      \u001b[1m<\u001b[0m\u001b[1;95mth\u001b[0m\u001b[1m>\u001b[0mD\u001b[1m<\u001b[0m\u001b[35m/\u001b[0m\u001b[95mth\u001b[0m\u001b[1m>\u001b[0m\n",
       "\n"
      ]
     },
     "metadata": {},
     "output_type": "display_data"
    }
   ],
   "source": [
    "rng = np.random.default_rng(seed=1234)\n",
    "df = DataFrame(rng.random((4, 4)), columns=['A', 'B', 'C', 'D'])\n",
    "\n",
    "print(df.to_html()[:167])"
   ]
  },
  {
   "cell_type": "code",
   "execution_count": 9,
   "id": "d0f3bbb9-b0a7-4c6b-9a88-0c79fb7caff5",
   "metadata": {},
   "outputs": [
    {
     "data": {
      "text/html": [
       "<pre style=\"white-space:pre;overflow-x:auto;line-height:normal;font-family:Menlo,'DejaVu Sans Mono',consolas,'Courier New',monospace\"><span style=\"font-weight: bold\">&lt;</span><span style=\"color: #ff00ff; text-decoration-color: #ff00ff; font-weight: bold\">div</span><span style=\"font-weight: bold\">&gt;</span>\n",
       "<span style=\"font-weight: bold\">&lt;</span><span style=\"color: #ff00ff; text-decoration-color: #ff00ff; font-weight: bold\">style</span><span style=\"color: #000000; text-decoration-color: #000000\"> scoped</span><span style=\"font-weight: bold\">&gt;</span>\n",
       "    .dataframe tbody tr th:only-of-type <span style=\"font-weight: bold\">{</span>\n",
       "        vertical-align: middle;\n",
       "    <span style=\"font-weight: bold\">}</span>\n",
       "\n",
       "    .dataframe tbody tr th <span style=\"font-weight: bold\">{</span>\n",
       "        vertical-align: top;\n",
       "    <span style=\"font-weight: bold\">}</span>\n",
       "\n",
       "    .dataframe thead th <span style=\"font-weight: bold\">{</span>\n",
       "        text-align: right;\n",
       "    <span style=\"font-weight: bold\">}</span>\n",
       "<span style=\"font-weight: bold\">&lt;</span><span style=\"color: #800080; text-decoration-color: #800080\">/</span><span style=\"color: #ff00ff; text-decoration-color: #ff00ff\">style</span><span style=\"font-weight: bold\">&gt;</span>\n",
       "<span style=\"font-weight: bold\">&lt;</span><span style=\"color: #ff00ff; text-decoration-color: #ff00ff; font-weight: bold\">table</span><span style=\"color: #000000; text-decoration-color: #000000\"> </span><span style=\"color: #808000; text-decoration-color: #808000\">border</span><span style=\"color: #000000; text-decoration-color: #000000\">=</span><span style=\"color: #008000; text-decoration-color: #008000\">\"1\"</span><span style=\"color: #000000; text-decoration-color: #000000\"> </span><span style=\"color: #808000; text-decoration-color: #808000\">class</span><span style=\"color: #000000; text-decoration-color: #000000\">=</span><span style=\"color: #008000; text-decoration-color: #008000\">\"dataframe\"</span><span style=\"font-weight: bold\">&gt;</span>\n",
       "\n",
       "</pre>\n"
      ],
      "text/plain": [
       "\u001b[1m<\u001b[0m\u001b[1;95mdiv\u001b[0m\u001b[1m>\u001b[0m\n",
       "\u001b[1m<\u001b[0m\u001b[1;95mstyle\u001b[0m\u001b[39m scoped\u001b[0m\u001b[1m>\u001b[0m\n",
       "    .dataframe tbody tr th:only-of-type \u001b[1m{\u001b[0m\n",
       "        vertical-align: middle;\n",
       "    \u001b[1m}\u001b[0m\n",
       "\n",
       "    .dataframe tbody tr th \u001b[1m{\u001b[0m\n",
       "        vertical-align: top;\n",
       "    \u001b[1m}\u001b[0m\n",
       "\n",
       "    .dataframe thead th \u001b[1m{\u001b[0m\n",
       "        text-align: right;\n",
       "    \u001b[1m}\u001b[0m\n",
       "\u001b[1m<\u001b[0m\u001b[35m/\u001b[0m\u001b[95mstyle\u001b[0m\u001b[1m>\u001b[0m\n",
       "\u001b[1m<\u001b[0m\u001b[1;95mtable\u001b[0m\u001b[39m \u001b[0m\u001b[33mborder\u001b[0m\u001b[39m=\u001b[0m\u001b[32m\"1\"\u001b[0m\u001b[39m \u001b[0m\u001b[33mclass\u001b[0m\u001b[39m=\u001b[0m\u001b[32m\"dataframe\"\u001b[0m\u001b[1m>\u001b[0m\n",
       "\n"
      ]
     },
     "metadata": {},
     "output_type": "display_data"
    }
   ],
   "source": [
    "print(df._repr_html_()[:272])"
   ]
  },
  {
   "cell_type": "code",
   "execution_count": 10,
   "id": "18444c37-efc2-4aaa-b49a-c9fa2f361ffc",
   "metadata": {
    "slideshow": {
     "slide_type": "subslide"
    },
    "tags": []
   },
   "outputs": [],
   "source": [
    "class DisplayTwoDf:\n",
    "    def __init__(self, df1, df2):\n",
    "        self.df1 = df1.to_html()\n",
    "        self.df2 = df2.to_html()\n",
    "        \n",
    "    def _repr_html_(self):\n",
    "        style = \"\"\"\n",
    "          <style>\n",
    "            .two-df {\n",
    "              display: flex;\n",
    "              flex-direction: row;'\n",
    "            }\n",
    "            \n",
    "            .two-df > div {\n",
    "              margin: auto;\n",
    "            }\n",
    "          </style>\n",
    "        \"\"\"\n",
    "        \n",
    "        return f\"\"\"{style}\n",
    "          <div class=\"two-df\">\n",
    "            <div>{self.df1}</div>\n",
    "            <div>{self.df2}</div>\n",
    "          </div>\n",
    "        \"\"\""
   ]
  },
  {
   "cell_type": "code",
   "execution_count": 11,
   "id": "eb67705e-ad84-4c7c-a2f9-da920a3cdd73",
   "metadata": {
    "slideshow": {
     "slide_type": "subslide"
    },
    "tags": []
   },
   "outputs": [
    {
     "data": {
      "text/html": [
       "\n",
       "          <style>\n",
       "            .two-df {\n",
       "              display: flex;\n",
       "              flex-direction: row;'\n",
       "            }\n",
       "            \n",
       "            .two-df > div {\n",
       "              margin: auto;\n",
       "            }\n",
       "          </style>\n",
       "        \n",
       "          <div class=\"two-df\">\n",
       "            <div><table border=\"1\" class=\"dataframe\">\n",
       "  <thead>\n",
       "    <tr style=\"text-align: right;\">\n",
       "      <th></th>\n",
       "      <th>A</th>\n",
       "      <th>B</th>\n",
       "    </tr>\n",
       "  </thead>\n",
       "  <tbody>\n",
       "    <tr>\n",
       "      <th>0</th>\n",
       "      <td>0.976700</td>\n",
       "      <td>0.380196</td>\n",
       "    </tr>\n",
       "    <tr>\n",
       "      <th>1</th>\n",
       "      <td>0.319097</td>\n",
       "      <td>0.118091</td>\n",
       "    </tr>\n",
       "    <tr>\n",
       "      <th>2</th>\n",
       "      <td>0.964079</td>\n",
       "      <td>0.263650</td>\n",
       "    </tr>\n",
       "    <tr>\n",
       "      <th>3</th>\n",
       "      <td>0.863621</td>\n",
       "      <td>0.863758</td>\n",
       "    </tr>\n",
       "  </tbody>\n",
       "</table></div>\n",
       "            <div><table border=\"1\" class=\"dataframe\">\n",
       "  <thead>\n",
       "    <tr style=\"text-align: right;\">\n",
       "      <th></th>\n",
       "      <th>C</th>\n",
       "      <th>D</th>\n",
       "    </tr>\n",
       "  </thead>\n",
       "  <tbody>\n",
       "    <tr>\n",
       "      <th>0</th>\n",
       "      <td>0.923246</td>\n",
       "      <td>0.261692</td>\n",
       "    </tr>\n",
       "    <tr>\n",
       "      <th>1</th>\n",
       "      <td>0.241766</td>\n",
       "      <td>0.318534</td>\n",
       "    </tr>\n",
       "    <tr>\n",
       "      <th>2</th>\n",
       "      <td>0.441006</td>\n",
       "      <td>0.609871</td>\n",
       "    </tr>\n",
       "    <tr>\n",
       "      <th>3</th>\n",
       "      <td>0.674881</td>\n",
       "      <td>0.659874</td>\n",
       "    </tr>\n",
       "  </tbody>\n",
       "</table></div>\n",
       "          </div>\n",
       "        "
      ],
      "text/plain": [
       "<__main__.DisplayTwoDf at 0x25785d58ac0>"
      ]
     },
     "execution_count": 11,
     "metadata": {},
     "output_type": "execute_result"
    }
   ],
   "source": [
    "DisplayTwoDf(df[['A', 'B']], df[['C', 'D']])"
   ]
  },
  {
   "cell_type": "markdown",
   "id": "3aa3faec-36ea-48fc-976a-b968ffbcc9a7",
   "metadata": {
    "slideshow": {
     "slide_type": "slide"
    },
    "tags": []
   },
   "source": [
    "## pandas Styler"
   ]
  },
  {
   "cell_type": "code",
   "execution_count": 12,
   "id": "ed673bf5-a6a8-4bc5-a24c-3a6d86896000",
   "metadata": {
    "slideshow": {
     "slide_type": "subslide"
    },
    "tags": []
   },
   "outputs": [
    {
     "data": {
      "text/html": [
       "<pre style=\"white-space:pre;overflow-x:auto;line-height:normal;font-family:Menlo,'DejaVu Sans Mono',consolas,'Courier New',monospace\">    @property\n",
       "    def <span style=\"color: #800080; text-decoration-color: #800080; font-weight: bold\">style</span><span style=\"font-weight: bold\">(</span>self<span style=\"font-weight: bold\">)</span> -&gt; Styler:\n",
       "        <span style=\"color: #008000; text-decoration-color: #008000\">\"\"</span>\"\n",
       "        Returns a Styler object.\n",
       "\n",
       "        Contains methods for building a styled HTML representation of the DataFrame.\n",
       "\n",
       "        See Also\n",
       "        --------\n",
       "        io.formats.style.Styler : Helps style a DataFrame or Series according to the\n",
       "            data with HTML and CSS.\n",
       "        <span style=\"color: #008000; text-decoration-color: #008000\">\"\"</span>\"\n",
       "        from pandas.io.formats.style import Styler\n",
       "\n",
       "        return <span style=\"color: #800080; text-decoration-color: #800080; font-weight: bold\">Styler</span><span style=\"font-weight: bold\">(</span>self<span style=\"font-weight: bold\">)</span>\n",
       "\n",
       "</pre>\n"
      ],
      "text/plain": [
       "    @property\n",
       "    def \u001b[1;35mstyle\u001b[0m\u001b[1m(\u001b[0mself\u001b[1m)\u001b[0m -> Styler:\n",
       "        \u001b[32m\"\"\u001b[0m\"\n",
       "        Returns a Styler object.\n",
       "\n",
       "        Contains methods for building a styled HTML representation of the DataFrame.\n",
       "\n",
       "        See Also\n",
       "        --------\n",
       "        io.formats.style.Styler : Helps style a DataFrame or Series according to the\n",
       "            data with HTML and CSS.\n",
       "        \u001b[32m\"\"\u001b[0m\"\n",
       "        from pandas.io.formats.style import Styler\n",
       "\n",
       "        return \u001b[1;35mStyler\u001b[0m\u001b[1m(\u001b[0mself\u001b[1m)\u001b[0m\n",
       "\n"
      ]
     },
     "metadata": {},
     "output_type": "display_data"
    }
   ],
   "source": [
    "print(getsource(DataFrame.style.fget))"
   ]
  },
  {
   "cell_type": "code",
   "execution_count": 13,
   "id": "a65e48a0-a977-4337-a879-24bb074a5304",
   "metadata": {
    "slideshow": {
     "slide_type": "subslide"
    },
    "tags": []
   },
   "outputs": [
    {
     "data": {
      "text/html": [
       "<style type=\"text/css\">\n",
       "</style>\n",
       "<table id=\"T_525b0\">\n",
       "  <thead>\n",
       "    <tr>\n",
       "      <th class=\"blank level0\" >&nbsp;</th>\n",
       "      <th id=\"T_525b0_level0_col0\" class=\"col_heading level0 col0\" >A</th>\n",
       "      <th id=\"T_525b0_level0_col1\" class=\"col_heading level0 col1\" >B</th>\n",
       "      <th id=\"T_525b0_level0_col2\" class=\"col_heading level0 col2\" >C</th>\n",
       "      <th id=\"T_525b0_level0_col3\" class=\"col_heading level0 col3\" >D</th>\n",
       "    </tr>\n",
       "  </thead>\n",
       "  <tbody>\n",
       "    <tr>\n",
       "      <th id=\"T_525b0_level0_row0\" class=\"row_heading level0 row0\" >0</th>\n",
       "      <td id=\"T_525b0_row0_col0\" class=\"data row0 col0\" >0.976700</td>\n",
       "      <td id=\"T_525b0_row0_col1\" class=\"data row0 col1\" >0.380196</td>\n",
       "      <td id=\"T_525b0_row0_col2\" class=\"data row0 col2\" >0.923246</td>\n",
       "      <td id=\"T_525b0_row0_col3\" class=\"data row0 col3\" >0.261692</td>\n",
       "    </tr>\n",
       "    <tr>\n",
       "      <th id=\"T_525b0_level0_row1\" class=\"row_heading level0 row1\" >1</th>\n",
       "      <td id=\"T_525b0_row1_col0\" class=\"data row1 col0\" >0.319097</td>\n",
       "      <td id=\"T_525b0_row1_col1\" class=\"data row1 col1\" >0.118091</td>\n",
       "      <td id=\"T_525b0_row1_col2\" class=\"data row1 col2\" >0.241766</td>\n",
       "      <td id=\"T_525b0_row1_col3\" class=\"data row1 col3\" >0.318534</td>\n",
       "    </tr>\n",
       "    <tr>\n",
       "      <th id=\"T_525b0_level0_row2\" class=\"row_heading level0 row2\" >2</th>\n",
       "      <td id=\"T_525b0_row2_col0\" class=\"data row2 col0\" >0.964079</td>\n",
       "      <td id=\"T_525b0_row2_col1\" class=\"data row2 col1\" >0.263650</td>\n",
       "      <td id=\"T_525b0_row2_col2\" class=\"data row2 col2\" >0.441006</td>\n",
       "      <td id=\"T_525b0_row2_col3\" class=\"data row2 col3\" >0.609871</td>\n",
       "    </tr>\n",
       "    <tr>\n",
       "      <th id=\"T_525b0_level0_row3\" class=\"row_heading level0 row3\" >3</th>\n",
       "      <td id=\"T_525b0_row3_col0\" class=\"data row3 col0\" >0.863621</td>\n",
       "      <td id=\"T_525b0_row3_col1\" class=\"data row3 col1\" >0.863758</td>\n",
       "      <td id=\"T_525b0_row3_col2\" class=\"data row3 col2\" >0.674881</td>\n",
       "      <td id=\"T_525b0_row3_col3\" class=\"data row3 col3\" >0.659874</td>\n",
       "    </tr>\n",
       "  </tbody>\n",
       "</table>\n"
      ],
      "text/plain": [
       "<pandas.io.formats.style.Styler at 0x25785d5ac50>"
      ]
     },
     "execution_count": 13,
     "metadata": {},
     "output_type": "execute_result"
    }
   ],
   "source": [
    "style = df.copy().style\n",
    "style"
   ]
  },
  {
   "cell_type": "code",
   "execution_count": 14,
   "id": "e24ef78e-bc06-4fb7-8ba6-b0e5daf3d372",
   "metadata": {
    "slideshow": {
     "slide_type": "subslide"
    },
    "tags": []
   },
   "outputs": [
    {
     "data": {
      "text/html": [
       "<pre style=\"white-space:pre;overflow-x:auto;line-height:normal;font-family:Menlo,'DejaVu Sans Mono',consolas,'Courier New',monospace\"><span style=\"font-weight: bold\">&lt;</span><span style=\"color: #ff00ff; text-decoration-color: #ff00ff; font-weight: bold\">style</span><span style=\"color: #000000; text-decoration-color: #000000\"> </span><span style=\"color: #808000; text-decoration-color: #808000\">type</span><span style=\"color: #000000; text-decoration-color: #000000\">=</span><span style=\"color: #008000; text-decoration-color: #008000\">\"text/css\"</span><span style=\"font-weight: bold\">&gt;</span>\n",
       "<span style=\"font-weight: bold\">&lt;</span><span style=\"color: #800080; text-decoration-color: #800080\">/</span><span style=\"color: #ff00ff; text-decoration-color: #ff00ff\">style</span><span style=\"font-weight: bold\">&gt;</span>\n",
       "<span style=\"font-weight: bold\">&lt;</span><span style=\"color: #ff00ff; text-decoration-color: #ff00ff; font-weight: bold\">table</span><span style=\"color: #000000; text-decoration-color: #000000\"> </span><span style=\"color: #808000; text-decoration-color: #808000\">id</span><span style=\"color: #000000; text-decoration-color: #000000\">=</span><span style=\"color: #008000; text-decoration-color: #008000\">\"T_525b0\"</span><span style=\"font-weight: bold\">&gt;</span>\n",
       "  <span style=\"font-weight: bold\">&lt;</span><span style=\"color: #ff00ff; text-decoration-color: #ff00ff; font-weight: bold\">thead</span><span style=\"font-weight: bold\">&gt;</span>\n",
       "    <span style=\"font-weight: bold\">&lt;</span><span style=\"color: #ff00ff; text-decoration-color: #ff00ff; font-weight: bold\">tr</span><span style=\"font-weight: bold\">&gt;</span>\n",
       "      <span style=\"font-weight: bold\">&lt;</span><span style=\"color: #ff00ff; text-decoration-color: #ff00ff; font-weight: bold\">th</span><span style=\"color: #000000; text-decoration-color: #000000\"> </span><span style=\"color: #808000; text-decoration-color: #808000\">class</span><span style=\"color: #000000; text-decoration-color: #000000\">=</span><span style=\"color: #008000; text-decoration-color: #008000\">\"blank level0\"</span><span style=\"color: #000000; text-decoration-color: #000000\"> </span><span style=\"font-weight: bold\">&gt;</span>&amp;nbsp;<span style=\"font-weight: bold\">&lt;</span><span style=\"color: #800080; text-decoration-color: #800080\">/</span><span style=\"color: #ff00ff; text-decoration-color: #ff00ff\">th</span><span style=\"font-weight: bold\">&gt;</span>\n",
       "      <span style=\"font-weight: bold\">&lt;</span><span style=\"color: #ff00ff; text-decoration-color: #ff00ff; font-weight: bold\">th</span><span style=\"color: #000000; text-decoration-color: #000000\"> </span><span style=\"color: #808000; text-decoration-color: #808000\">id</span><span style=\"color: #000000; text-decoration-color: #000000\">=</span><span style=\"color: #008000; text-decoration-color: #008000\">\"T_525b0_level0_col0\"</span><span style=\"color: #000000; text-decoration-color: #000000\"> </span><span style=\"color: #808000; text-decoration-color: #808000\">class</span><span style=\"color: #000000; text-decoration-color: #000000\">=</span><span style=\"color: #008000; text-decoration-color: #008000\">\"col_heading level0 col0\"</span><span style=\"color: #000000; text-decoration-color: #000000\"> </span><span style=\"font-weight: bold\">&gt;</span>A<span style=\"font-weight: bold\">&lt;</span><span style=\"color: #800080; text-decoration-color: #800080\">/</span><span style=\"color: #ff00ff; text-decoration-color: #ff00ff\">th</span><span style=\"font-weight: bold\">&gt;</span>\n",
       "      <span style=\"font-weight: bold\">&lt;</span><span style=\"color: #ff00ff; text-decoration-color: #ff00ff; font-weight: bold\">th</span><span style=\"color: #000000; text-decoration-color: #000000\"> </span><span style=\"color: #808000; text-decoration-color: #808000\">id</span><span style=\"color: #000000; text-decoration-color: #000000\">=</span><span style=\"color: #008000; text-decoration-color: #008000\">\"T_525b0_level0_col1\"</span><span style=\"color: #000000; text-decoration-color: #000000\"> </span><span style=\"color: #808000; text-decoration-color: #808000\">class</span><span style=\"color: #000000; text-decoration-color: #000000\">=</span><span style=\"color: #008000; text-decoration-color: #008000\">\"col_heading level0 col1\"</span><span style=\"color: #000000; text-decoration-color: #000000\"> </span><span style=\"font-weight: bold\">&gt;</span>B<span style=\"font-weight: bold\">&lt;</span><span style=\"color: #800080; text-decoration-color: #800080\">/</span><span style=\"color: #ff00ff; text-decoration-color: #ff00ff\">th</span><span style=\"font-weight: bold\">&gt;</span>\n",
       "      <span style=\"font-weight: bold\">&lt;</span><span style=\"color: #ff00ff; text-decoration-color: #ff00ff; font-weight: bold\">th</span><span style=\"color: #000000; text-decoration-color: #000000\"> </span><span style=\"color: #808000; text-decoration-color: #808000\">id</span><span style=\"color: #000000; text-decoration-color: #000000\">=</span><span style=\"color: #008000; text-decoration-color: #008000\">\"T_525b0_level0_col2\"</span><span style=\"color: #000000; text-decoration-color: #000000\"> </span><span style=\"color: #808000; text-decoration-color: #808000\">class</span><span style=\"color: #000000; text-decoration-color: #000000\">=</span><span style=\"color: #008000; text-decoration-color: #008000\">\"col_heading level0 col2\"</span><span style=\"color: #000000; text-decoration-color: #000000\"> </span><span style=\"font-weight: bold\">&gt;</span>C<span style=\"font-weight: bold\">&lt;</span><span style=\"color: #800080; text-decoration-color: #800080\">/</span><span style=\"color: #ff00ff; text-decoration-color: #ff00ff\">th</span><span style=\"font-weight: bold\">&gt;</span>\n",
       "      <span style=\"font-weight: bold\">&lt;</span><span style=\"color: #ff00ff; text-decoration-color: #ff00ff; font-weight: bold\">th</span><span style=\"color: #000000; text-decoration-color: #000000\"> </span><span style=\"color: #808000; text-decoration-color: #808000\">id</span><span style=\"color: #000000; text-decoration-color: #000000\">=</span><span style=\"color: #008000; text-decoration-color: #008000\">\"T_525b0_level0_col3\"</span><span style=\"color: #000000; text-decoration-color: #000000\"> </span><span style=\"color: #808000; text-decoration-color: #808000\">class</span><span style=\"color: #000000; text-decoration-color: #000000\">=</span><span style=\"color: #008000; text-decoration-color: #008000\">\"col_heading level0 col3\"</span><span style=\"color: #000000; text-decoration-color: #000000\"> </span><span style=\"font-weight: bold\">&gt;</span>D<span style=\"font-weight: bold\">&lt;</span><span style=\"color: #800080; text-decoration-color: #800080\">/</span><span style=\"color: #ff00ff; text-decoration-color: #ff00ff\">th</span><span style=\"font-weight: bold\">&gt;</span>\n",
       "    <span style=\"font-weight: bold\">&lt;</span><span style=\"color: #800080; text-decoration-color: #800080\">/</span><span style=\"color: #ff00ff; text-decoration-color: #ff00ff\">tr</span><span style=\"font-weight: bold\">&gt;</span>\n",
       "  <span style=\"font-weight: bold\">&lt;</span><span style=\"color: #800080; text-decoration-color: #800080\">/</span><span style=\"color: #ff00ff; text-decoration-color: #ff00ff\">thead</span><span style=\"font-weight: bold\">&gt;</span>\n",
       "  <span style=\"font-weight: bold\">&lt;</span><span style=\"color: #ff00ff; text-decoration-color: #ff00ff; font-weight: bold\">tbody</span><span style=\"font-weight: bold\">&gt;</span>\n",
       "    <span style=\"font-weight: bold\">&lt;</span><span style=\"color: #ff00ff; text-decoration-color: #ff00ff; font-weight: bold\">tr</span><span style=\"font-weight: bold\">&gt;</span>\n",
       "      &lt;th <span style=\"color: #808000; text-decoration-color: #808000\">id</span>=<span style=\"color: #008000; text-decoration-color: #008000\">\"T_525b0_level0_row0\"</span> <span style=\"color: #808000; text-decoration-color: #808000\">class</span>=<span style=\"color: #800080; text-decoration-color: #800080\">\"r</span>\n",
       "</pre>\n"
      ],
      "text/plain": [
       "\u001b[1m<\u001b[0m\u001b[1;95mstyle\u001b[0m\u001b[39m \u001b[0m\u001b[33mtype\u001b[0m\u001b[39m=\u001b[0m\u001b[32m\"text\u001b[0m\u001b[32m/css\"\u001b[0m\u001b[1m>\u001b[0m\n",
       "\u001b[1m<\u001b[0m\u001b[35m/\u001b[0m\u001b[95mstyle\u001b[0m\u001b[1m>\u001b[0m\n",
       "\u001b[1m<\u001b[0m\u001b[1;95mtable\u001b[0m\u001b[39m \u001b[0m\u001b[33mid\u001b[0m\u001b[39m=\u001b[0m\u001b[32m\"T_525b0\"\u001b[0m\u001b[1m>\u001b[0m\n",
       "  \u001b[1m<\u001b[0m\u001b[1;95mthead\u001b[0m\u001b[1m>\u001b[0m\n",
       "    \u001b[1m<\u001b[0m\u001b[1;95mtr\u001b[0m\u001b[1m>\u001b[0m\n",
       "      \u001b[1m<\u001b[0m\u001b[1;95mth\u001b[0m\u001b[39m \u001b[0m\u001b[33mclass\u001b[0m\u001b[39m=\u001b[0m\u001b[32m\"blank\u001b[0m\u001b[32m level0\"\u001b[0m\u001b[39m \u001b[0m\u001b[1m>\u001b[0m&nbsp;\u001b[1m<\u001b[0m\u001b[35m/\u001b[0m\u001b[95mth\u001b[0m\u001b[1m>\u001b[0m\n",
       "      \u001b[1m<\u001b[0m\u001b[1;95mth\u001b[0m\u001b[39m \u001b[0m\u001b[33mid\u001b[0m\u001b[39m=\u001b[0m\u001b[32m\"T_525b0_level0_col0\"\u001b[0m\u001b[39m \u001b[0m\u001b[33mclass\u001b[0m\u001b[39m=\u001b[0m\u001b[32m\"col_heading\u001b[0m\u001b[32m level0 col0\"\u001b[0m\u001b[39m \u001b[0m\u001b[1m>\u001b[0mA\u001b[1m<\u001b[0m\u001b[35m/\u001b[0m\u001b[95mth\u001b[0m\u001b[1m>\u001b[0m\n",
       "      \u001b[1m<\u001b[0m\u001b[1;95mth\u001b[0m\u001b[39m \u001b[0m\u001b[33mid\u001b[0m\u001b[39m=\u001b[0m\u001b[32m\"T_525b0_level0_col1\"\u001b[0m\u001b[39m \u001b[0m\u001b[33mclass\u001b[0m\u001b[39m=\u001b[0m\u001b[32m\"col_heading\u001b[0m\u001b[32m level0 col1\"\u001b[0m\u001b[39m \u001b[0m\u001b[1m>\u001b[0mB\u001b[1m<\u001b[0m\u001b[35m/\u001b[0m\u001b[95mth\u001b[0m\u001b[1m>\u001b[0m\n",
       "      \u001b[1m<\u001b[0m\u001b[1;95mth\u001b[0m\u001b[39m \u001b[0m\u001b[33mid\u001b[0m\u001b[39m=\u001b[0m\u001b[32m\"T_525b0_level0_col2\"\u001b[0m\u001b[39m \u001b[0m\u001b[33mclass\u001b[0m\u001b[39m=\u001b[0m\u001b[32m\"col_heading\u001b[0m\u001b[32m level0 col2\"\u001b[0m\u001b[39m \u001b[0m\u001b[1m>\u001b[0mC\u001b[1m<\u001b[0m\u001b[35m/\u001b[0m\u001b[95mth\u001b[0m\u001b[1m>\u001b[0m\n",
       "      \u001b[1m<\u001b[0m\u001b[1;95mth\u001b[0m\u001b[39m \u001b[0m\u001b[33mid\u001b[0m\u001b[39m=\u001b[0m\u001b[32m\"T_525b0_level0_col3\"\u001b[0m\u001b[39m \u001b[0m\u001b[33mclass\u001b[0m\u001b[39m=\u001b[0m\u001b[32m\"col_heading\u001b[0m\u001b[32m level0 col3\"\u001b[0m\u001b[39m \u001b[0m\u001b[1m>\u001b[0mD\u001b[1m<\u001b[0m\u001b[35m/\u001b[0m\u001b[95mth\u001b[0m\u001b[1m>\u001b[0m\n",
       "    \u001b[1m<\u001b[0m\u001b[35m/\u001b[0m\u001b[95mtr\u001b[0m\u001b[1m>\u001b[0m\n",
       "  \u001b[1m<\u001b[0m\u001b[35m/\u001b[0m\u001b[95mthead\u001b[0m\u001b[1m>\u001b[0m\n",
       "  \u001b[1m<\u001b[0m\u001b[1;95mtbody\u001b[0m\u001b[1m>\u001b[0m\n",
       "    \u001b[1m<\u001b[0m\u001b[1;95mtr\u001b[0m\u001b[1m>\u001b[0m\n",
       "      <th \u001b[33mid\u001b[0m=\u001b[32m\"T_525b0_level0_row0\"\u001b[0m \u001b[33mclass\u001b[0m=\u001b[35m\"r\u001b[0m\n"
      ]
     },
     "metadata": {},
     "output_type": "display_data"
    }
   ],
   "source": [
    "print(style.to_html()[:500])"
   ]
  },
  {
   "cell_type": "code",
   "execution_count": 15,
   "id": "cdf9e06d-8a94-4d3d-8c7f-e1de48f71659",
   "metadata": {
    "slideshow": {
     "slide_type": "subslide"
    },
    "tags": []
   },
   "outputs": [
    {
     "data": {
      "text/html": [
       "<style type=\"text/css\">\n",
       "#T_a2035_row0_col0, #T_a2035_row0_col2, #T_a2035_row3_col1, #T_a2035_row3_col3 {\n",
       "  background-color: #08306b;\n",
       "  color: #f1f1f1;\n",
       "}\n",
       "#T_a2035_row0_col1 {\n",
       "  background-color: #a6cee4;\n",
       "  color: #000000;\n",
       "}\n",
       "#T_a2035_row0_col3, #T_a2035_row1_col0, #T_a2035_row1_col1, #T_a2035_row1_col2 {\n",
       "  background-color: #f7fbff;\n",
       "  color: #000000;\n",
       "}\n",
       "#T_a2035_row1_col3 {\n",
       "  background-color: #dbe9f6;\n",
       "  color: #000000;\n",
       "}\n",
       "#T_a2035_row2_col0 {\n",
       "  background-color: #083471;\n",
       "  color: #f1f1f1;\n",
       "}\n",
       "#T_a2035_row2_col1 {\n",
       "  background-color: #d1e2f3;\n",
       "  color: #000000;\n",
       "}\n",
       "#T_a2035_row2_col2 {\n",
       "  background-color: #b9d6ea;\n",
       "  color: #000000;\n",
       "}\n",
       "#T_a2035_row2_col3 {\n",
       "  background-color: #08519c;\n",
       "  color: #f1f1f1;\n",
       "}\n",
       "#T_a2035_row3_col0 {\n",
       "  background-color: #125da6;\n",
       "  color: #f1f1f1;\n",
       "}\n",
       "#T_a2035_row3_col2 {\n",
       "  background-color: #3f8fc5;\n",
       "  color: #f1f1f1;\n",
       "}\n",
       "</style>\n",
       "<table id=\"T_a2035\">\n",
       "  <thead>\n",
       "    <tr>\n",
       "      <th class=\"blank level0\" >&nbsp;</th>\n",
       "      <th id=\"T_a2035_level0_col0\" class=\"col_heading level0 col0\" >A</th>\n",
       "      <th id=\"T_a2035_level0_col1\" class=\"col_heading level0 col1\" >B</th>\n",
       "      <th id=\"T_a2035_level0_col2\" class=\"col_heading level0 col2\" >C</th>\n",
       "      <th id=\"T_a2035_level0_col3\" class=\"col_heading level0 col3\" >D</th>\n",
       "    </tr>\n",
       "  </thead>\n",
       "  <tbody>\n",
       "    <tr>\n",
       "      <th id=\"T_a2035_level0_row0\" class=\"row_heading level0 row0\" >0</th>\n",
       "      <td id=\"T_a2035_row0_col0\" class=\"data row0 col0\" >0.976700</td>\n",
       "      <td id=\"T_a2035_row0_col1\" class=\"data row0 col1\" >0.380196</td>\n",
       "      <td id=\"T_a2035_row0_col2\" class=\"data row0 col2\" >0.923246</td>\n",
       "      <td id=\"T_a2035_row0_col3\" class=\"data row0 col3\" >0.261692</td>\n",
       "    </tr>\n",
       "    <tr>\n",
       "      <th id=\"T_a2035_level0_row1\" class=\"row_heading level0 row1\" >1</th>\n",
       "      <td id=\"T_a2035_row1_col0\" class=\"data row1 col0\" >0.319097</td>\n",
       "      <td id=\"T_a2035_row1_col1\" class=\"data row1 col1\" >0.118091</td>\n",
       "      <td id=\"T_a2035_row1_col2\" class=\"data row1 col2\" >0.241766</td>\n",
       "      <td id=\"T_a2035_row1_col3\" class=\"data row1 col3\" >0.318534</td>\n",
       "    </tr>\n",
       "    <tr>\n",
       "      <th id=\"T_a2035_level0_row2\" class=\"row_heading level0 row2\" >2</th>\n",
       "      <td id=\"T_a2035_row2_col0\" class=\"data row2 col0\" >0.964079</td>\n",
       "      <td id=\"T_a2035_row2_col1\" class=\"data row2 col1\" >0.263650</td>\n",
       "      <td id=\"T_a2035_row2_col2\" class=\"data row2 col2\" >0.441006</td>\n",
       "      <td id=\"T_a2035_row2_col3\" class=\"data row2 col3\" >0.609871</td>\n",
       "    </tr>\n",
       "    <tr>\n",
       "      <th id=\"T_a2035_level0_row3\" class=\"row_heading level0 row3\" >3</th>\n",
       "      <td id=\"T_a2035_row3_col0\" class=\"data row3 col0\" >0.863621</td>\n",
       "      <td id=\"T_a2035_row3_col1\" class=\"data row3 col1\" >0.863758</td>\n",
       "      <td id=\"T_a2035_row3_col2\" class=\"data row3 col2\" >0.674881</td>\n",
       "      <td id=\"T_a2035_row3_col3\" class=\"data row3 col3\" >0.659874</td>\n",
       "    </tr>\n",
       "  </tbody>\n",
       "</table>\n"
      ],
      "text/plain": [
       "<pandas.io.formats.style.Styler at 0x25786bf5090>"
      ]
     },
     "execution_count": 15,
     "metadata": {},
     "output_type": "execute_result"
    }
   ],
   "source": [
    "style = df.copy().style\n",
    "style.background_gradient(cmap='Blues')"
   ]
  },
  {
   "cell_type": "code",
   "execution_count": 16,
   "id": "e2b9aa1d-2378-4caf-8abe-67af5c031d87",
   "metadata": {
    "slideshow": {
     "slide_type": "fragment"
    },
    "tags": []
   },
   "outputs": [
    {
     "data": {
      "text/html": [
       "<style type=\"text/css\">\n",
       "#T_e14d0_row0_col0, #T_e14d0_row0_col2, #T_e14d0_row3_col1, #T_e14d0_row3_col3 {\n",
       "  background-color: #2c3172;\n",
       "  color: #f1f1f1;\n",
       "}\n",
       "#T_e14d0_row0_col1 {\n",
       "  background-color: #4d9c90;\n",
       "  color: #f1f1f1;\n",
       "}\n",
       "#T_e14d0_row0_col3, #T_e14d0_row1_col0, #T_e14d0_row1_col1, #T_e14d0_row1_col2 {\n",
       "  background-color: #a5cd90;\n",
       "  color: #000000;\n",
       "}\n",
       "#T_e14d0_row1_col3 {\n",
       "  background-color: #7dba91;\n",
       "  color: #000000;\n",
       "}\n",
       "#T_e14d0_row2_col0 {\n",
       "  background-color: #2c3473;\n",
       "  color: #f1f1f1;\n",
       "}\n",
       "#T_e14d0_row2_col1 {\n",
       "  background-color: #6fb390;\n",
       "  color: #f1f1f1;\n",
       "}\n",
       "#T_e14d0_row2_col2 {\n",
       "  background-color: #58a590;\n",
       "  color: #f1f1f1;\n",
       "}\n",
       "#T_e14d0_row2_col3 {\n",
       "  background-color: #26487e;\n",
       "  color: #f1f1f1;\n",
       "}\n",
       "#T_e14d0_row3_col0 {\n",
       "  background-color: #235082;\n",
       "  color: #f1f1f1;\n",
       "}\n",
       "#T_e14d0_row3_col2 {\n",
       "  background-color: #20718b;\n",
       "  color: #f1f1f1;\n",
       "}\n",
       "</style>\n",
       "<table id=\"T_e14d0\">\n",
       "  <thead>\n",
       "    <tr>\n",
       "      <th class=\"blank level0\" >&nbsp;</th>\n",
       "      <th id=\"T_e14d0_level0_col0\" class=\"col_heading level0 col0\" >A</th>\n",
       "      <th id=\"T_e14d0_level0_col1\" class=\"col_heading level0 col1\" >B</th>\n",
       "      <th id=\"T_e14d0_level0_col2\" class=\"col_heading level0 col2\" >C</th>\n",
       "      <th id=\"T_e14d0_level0_col3\" class=\"col_heading level0 col3\" >D</th>\n",
       "    </tr>\n",
       "  </thead>\n",
       "  <tbody>\n",
       "    <tr>\n",
       "      <th id=\"T_e14d0_level0_row0\" class=\"row_heading level0 row0\" >0</th>\n",
       "      <td id=\"T_e14d0_row0_col0\" class=\"data row0 col0\" >0.976700</td>\n",
       "      <td id=\"T_e14d0_row0_col1\" class=\"data row0 col1\" >0.380196</td>\n",
       "      <td id=\"T_e14d0_row0_col2\" class=\"data row0 col2\" >0.923246</td>\n",
       "      <td id=\"T_e14d0_row0_col3\" class=\"data row0 col3\" >0.261692</td>\n",
       "    </tr>\n",
       "    <tr>\n",
       "      <th id=\"T_e14d0_level0_row1\" class=\"row_heading level0 row1\" >1</th>\n",
       "      <td id=\"T_e14d0_row1_col0\" class=\"data row1 col0\" >0.319097</td>\n",
       "      <td id=\"T_e14d0_row1_col1\" class=\"data row1 col1\" >0.118091</td>\n",
       "      <td id=\"T_e14d0_row1_col2\" class=\"data row1 col2\" >0.241766</td>\n",
       "      <td id=\"T_e14d0_row1_col3\" class=\"data row1 col3\" >0.318534</td>\n",
       "    </tr>\n",
       "    <tr>\n",
       "      <th id=\"T_e14d0_level0_row2\" class=\"row_heading level0 row2\" >2</th>\n",
       "      <td id=\"T_e14d0_row2_col0\" class=\"data row2 col0\" >0.964079</td>\n",
       "      <td id=\"T_e14d0_row2_col1\" class=\"data row2 col1\" >0.263650</td>\n",
       "      <td id=\"T_e14d0_row2_col2\" class=\"data row2 col2\" >0.441006</td>\n",
       "      <td id=\"T_e14d0_row2_col3\" class=\"data row2 col3\" >0.609871</td>\n",
       "    </tr>\n",
       "    <tr>\n",
       "      <th id=\"T_e14d0_level0_row3\" class=\"row_heading level0 row3\" >3</th>\n",
       "      <td id=\"T_e14d0_row3_col0\" class=\"data row3 col0\" >0.863621</td>\n",
       "      <td id=\"T_e14d0_row3_col1\" class=\"data row3 col1\" >0.863758</td>\n",
       "      <td id=\"T_e14d0_row3_col2\" class=\"data row3 col2\" >0.674881</td>\n",
       "      <td id=\"T_e14d0_row3_col3\" class=\"data row3 col3\" >0.659874</td>\n",
       "    </tr>\n",
       "  </tbody>\n",
       "</table>\n"
      ],
      "text/plain": [
       "<pandas.io.formats.style.Styler at 0x25786bf4a00>"
      ]
     },
     "execution_count": 16,
     "metadata": {},
     "output_type": "execute_result"
    }
   ],
   "source": [
    "import seaborn as sns\n",
    "\n",
    "style = df.copy().style\n",
    "style.background_gradient(cmap=sns.color_palette('crest', as_cmap=True))"
   ]
  },
  {
   "cell_type": "code",
   "execution_count": 17,
   "id": "320a3403-04c8-44a8-9c03-29e64514a7dd",
   "metadata": {
    "slideshow": {
     "slide_type": "fragment"
    },
    "tags": []
   },
   "outputs": [
    {
     "data": {
      "text/html": [
       "<svg  width=\"330\" height=\"55\"><rect x=\"0\" y=\"0\" width=\"55\" height=\"55\" style=\"fill:#7dba91;stroke-width:2;stroke:rgb(255,255,255)\"/><rect x=\"55\" y=\"0\" width=\"55\" height=\"55\" style=\"fill:#59a590;stroke-width:2;stroke:rgb(255,255,255)\"/><rect x=\"110\" y=\"0\" width=\"55\" height=\"55\" style=\"fill:#40908e;stroke-width:2;stroke:rgb(255,255,255)\"/><rect x=\"165\" y=\"0\" width=\"55\" height=\"55\" style=\"fill:#287a8c;stroke-width:2;stroke:rgb(255,255,255)\"/><rect x=\"220\" y=\"0\" width=\"55\" height=\"55\" style=\"fill:#1c6488;stroke-width:2;stroke:rgb(255,255,255)\"/><rect x=\"275\" y=\"0\" width=\"55\" height=\"55\" style=\"fill:#254b7f;stroke-width:2;stroke:rgb(255,255,255)\"/></svg>"
      ],
      "text/plain": [
       "[(0.48942421, 0.72854938, 0.56751036),\n",
       " (0.34892097, 0.64828676, 0.56513633),\n",
       " (0.24929311, 0.56486397, 0.5586654),\n",
       " (0.15615526, 0.47913212, 0.54850526),\n",
       " (0.11131735, 0.39155635, 0.53422678),\n",
       " (0.14573579, 0.29354139, 0.49847009)]"
      ]
     },
     "execution_count": 17,
     "metadata": {},
     "output_type": "execute_result"
    }
   ],
   "source": [
    "sns.color_palette('crest')"
   ]
  },
  {
   "cell_type": "markdown",
   "id": "dfc0ae1a-051c-490a-898d-c763d9efc2f5",
   "metadata": {
    "slideshow": {
     "slide_type": "subslide"
    },
    "tags": []
   },
   "source": [
    "**Styler apply functions**"
   ]
  },
  {
   "cell_type": "code",
   "execution_count": 18,
   "id": "8403e8e0-426e-4cba-9e5d-c54340d02517",
   "metadata": {
    "slideshow": {
     "slide_type": "fragment"
    },
    "tags": []
   },
   "outputs": [
    {
     "data": {
      "text/html": [
       "<pre style=\"white-space:pre;overflow-x:auto;line-height:normal;font-family:Menlo,'DejaVu Sans Mono',consolas,'Courier New',monospace\">Apply a CSS-styling function column-wise, row-wise, or table-wise.\n",
       "</pre>\n"
      ],
      "text/plain": [
       "Apply a CSS-styling function column-wise, row-wise, or table-wise.\n"
      ]
     },
     "metadata": {},
     "output_type": "display_data"
    },
    {
     "data": {
      "text/html": [
       "<style type=\"text/css\">\n",
       "#T_774f5_row0_col0, #T_774f5_row0_col1, #T_774f5_row0_col3, #T_774f5_row1_col0, #T_774f5_row1_col1, #T_774f5_row1_col3, #T_774f5_row2_col0, #T_774f5_row2_col1, #T_774f5_row2_col3, #T_774f5_row3_col0, #T_774f5_row3_col1, #T_774f5_row3_col3 {\n",
       "  background-color: #A0E7E5;\n",
       "}\n",
       "#T_774f5_row0_col2, #T_774f5_row1_col2, #T_774f5_row2_col2, #T_774f5_row3_col2 {\n",
       "  background-color: #B4F8C8;\n",
       "}\n",
       "</style>\n",
       "<table id=\"T_774f5\">\n",
       "  <thead>\n",
       "    <tr>\n",
       "      <th class=\"blank level0\" >&nbsp;</th>\n",
       "      <th id=\"T_774f5_level0_col0\" class=\"col_heading level0 col0\" >A</th>\n",
       "      <th id=\"T_774f5_level0_col1\" class=\"col_heading level0 col1\" >B</th>\n",
       "      <th id=\"T_774f5_level0_col2\" class=\"col_heading level0 col2\" >C</th>\n",
       "      <th id=\"T_774f5_level0_col3\" class=\"col_heading level0 col3\" >D</th>\n",
       "    </tr>\n",
       "  </thead>\n",
       "  <tbody>\n",
       "    <tr>\n",
       "      <th id=\"T_774f5_level0_row0\" class=\"row_heading level0 row0\" >0</th>\n",
       "      <td id=\"T_774f5_row0_col0\" class=\"data row0 col0\" >0.976700</td>\n",
       "      <td id=\"T_774f5_row0_col1\" class=\"data row0 col1\" >0.380196</td>\n",
       "      <td id=\"T_774f5_row0_col2\" class=\"data row0 col2\" >0.923246</td>\n",
       "      <td id=\"T_774f5_row0_col3\" class=\"data row0 col3\" >0.261692</td>\n",
       "    </tr>\n",
       "    <tr>\n",
       "      <th id=\"T_774f5_level0_row1\" class=\"row_heading level0 row1\" >1</th>\n",
       "      <td id=\"T_774f5_row1_col0\" class=\"data row1 col0\" >0.319097</td>\n",
       "      <td id=\"T_774f5_row1_col1\" class=\"data row1 col1\" >0.118091</td>\n",
       "      <td id=\"T_774f5_row1_col2\" class=\"data row1 col2\" >0.241766</td>\n",
       "      <td id=\"T_774f5_row1_col3\" class=\"data row1 col3\" >0.318534</td>\n",
       "    </tr>\n",
       "    <tr>\n",
       "      <th id=\"T_774f5_level0_row2\" class=\"row_heading level0 row2\" >2</th>\n",
       "      <td id=\"T_774f5_row2_col0\" class=\"data row2 col0\" >0.964079</td>\n",
       "      <td id=\"T_774f5_row2_col1\" class=\"data row2 col1\" >0.263650</td>\n",
       "      <td id=\"T_774f5_row2_col2\" class=\"data row2 col2\" >0.441006</td>\n",
       "      <td id=\"T_774f5_row2_col3\" class=\"data row2 col3\" >0.609871</td>\n",
       "    </tr>\n",
       "    <tr>\n",
       "      <th id=\"T_774f5_level0_row3\" class=\"row_heading level0 row3\" >3</th>\n",
       "      <td id=\"T_774f5_row3_col0\" class=\"data row3 col0\" >0.863621</td>\n",
       "      <td id=\"T_774f5_row3_col1\" class=\"data row3 col1\" >0.863758</td>\n",
       "      <td id=\"T_774f5_row3_col2\" class=\"data row3 col2\" >0.674881</td>\n",
       "      <td id=\"T_774f5_row3_col3\" class=\"data row3 col3\" >0.659874</td>\n",
       "    </tr>\n",
       "  </tbody>\n",
       "</table>\n"
      ],
      "text/plain": [
       "<pandas.io.formats.style.Styler at 0x25796cd6350>"
      ]
     },
     "execution_count": 18,
     "metadata": {},
     "output_type": "execute_result"
    }
   ],
   "source": [
    "def highlight_third(x):\n",
    "    return [\"background-color: #A0E7E5;\",\n",
    "            \"background-color: #A0E7E5;\",\n",
    "            \"background-color: #B4F8C8;\",\n",
    "            \"background-color: #A0E7E5;\"\n",
    "           ]\n",
    "\n",
    "\n",
    "style = df.copy().style\n",
    "print(style.apply.__doc__[:75].strip())\n",
    "style.apply(highlight_third, axis=1)"
   ]
  },
  {
   "cell_type": "code",
   "execution_count": 19,
   "id": "2356b7b5-d1da-4af3-abd1-ec90e6d69f20",
   "metadata": {
    "slideshow": {
     "slide_type": "subslide"
    },
    "tags": []
   },
   "outputs": [
    {
     "data": {
      "text/html": [
       "<style type=\"text/css\">\n",
       "#T_28f60_row0_col0, #T_28f60_row0_col1, #T_28f60_row1_col0, #T_28f60_row1_col1, #T_28f60_row3_col0, #T_28f60_row3_col1 {\n",
       "  background-color: #A0E7E5;\n",
       "}\n",
       "#T_28f60_row2_col0, #T_28f60_row2_col1 {\n",
       "  background-color: #B4F8C8;\n",
       "}\n",
       "</style>\n",
       "<table id=\"T_28f60\">\n",
       "  <thead>\n",
       "    <tr>\n",
       "      <th class=\"blank level0\" >&nbsp;</th>\n",
       "      <th id=\"T_28f60_level0_col0\" class=\"col_heading level0 col0\" >A</th>\n",
       "      <th id=\"T_28f60_level0_col1\" class=\"col_heading level0 col1\" >B</th>\n",
       "      <th id=\"T_28f60_level0_col2\" class=\"col_heading level0 col2\" >C</th>\n",
       "      <th id=\"T_28f60_level0_col3\" class=\"col_heading level0 col3\" >D</th>\n",
       "    </tr>\n",
       "  </thead>\n",
       "  <tbody>\n",
       "    <tr>\n",
       "      <th id=\"T_28f60_level0_row0\" class=\"row_heading level0 row0\" >0</th>\n",
       "      <td id=\"T_28f60_row0_col0\" class=\"data row0 col0\" >0.976700</td>\n",
       "      <td id=\"T_28f60_row0_col1\" class=\"data row0 col1\" >0.380196</td>\n",
       "      <td id=\"T_28f60_row0_col2\" class=\"data row0 col2\" >0.923246</td>\n",
       "      <td id=\"T_28f60_row0_col3\" class=\"data row0 col3\" >0.261692</td>\n",
       "    </tr>\n",
       "    <tr>\n",
       "      <th id=\"T_28f60_level0_row1\" class=\"row_heading level0 row1\" >1</th>\n",
       "      <td id=\"T_28f60_row1_col0\" class=\"data row1 col0\" >0.319097</td>\n",
       "      <td id=\"T_28f60_row1_col1\" class=\"data row1 col1\" >0.118091</td>\n",
       "      <td id=\"T_28f60_row1_col2\" class=\"data row1 col2\" >0.241766</td>\n",
       "      <td id=\"T_28f60_row1_col3\" class=\"data row1 col3\" >0.318534</td>\n",
       "    </tr>\n",
       "    <tr>\n",
       "      <th id=\"T_28f60_level0_row2\" class=\"row_heading level0 row2\" >2</th>\n",
       "      <td id=\"T_28f60_row2_col0\" class=\"data row2 col0\" >0.964079</td>\n",
       "      <td id=\"T_28f60_row2_col1\" class=\"data row2 col1\" >0.263650</td>\n",
       "      <td id=\"T_28f60_row2_col2\" class=\"data row2 col2\" >0.441006</td>\n",
       "      <td id=\"T_28f60_row2_col3\" class=\"data row2 col3\" >0.609871</td>\n",
       "    </tr>\n",
       "    <tr>\n",
       "      <th id=\"T_28f60_level0_row3\" class=\"row_heading level0 row3\" >3</th>\n",
       "      <td id=\"T_28f60_row3_col0\" class=\"data row3 col0\" >0.863621</td>\n",
       "      <td id=\"T_28f60_row3_col1\" class=\"data row3 col1\" >0.863758</td>\n",
       "      <td id=\"T_28f60_row3_col2\" class=\"data row3 col2\" >0.674881</td>\n",
       "      <td id=\"T_28f60_row3_col3\" class=\"data row3 col3\" >0.659874</td>\n",
       "    </tr>\n",
       "  </tbody>\n",
       "</table>\n"
      ],
      "text/plain": [
       "<pandas.io.formats.style.Styler at 0x25796cd6170>"
      ]
     },
     "execution_count": 19,
     "metadata": {},
     "output_type": "execute_result"
    }
   ],
   "source": [
    "style = df.copy().style\n",
    "style.apply(highlight_third, axis=0, subset=['A', 'B'])"
   ]
  },
  {
   "cell_type": "code",
   "execution_count": 20,
   "id": "2d6a6d61-5b1d-4271-a4fa-ea651c950a79",
   "metadata": {
    "slideshow": {
     "slide_type": "subslide"
    },
    "tags": []
   },
   "outputs": [
    {
     "data": {
      "text/html": [
       "<pre style=\"white-space:pre;overflow-x:auto;line-height:normal;font-family:Menlo,'DejaVu Sans Mono',consolas,'Courier New',monospace\">Apply a CSS-styling function elementwise.\n",
       "</pre>\n"
      ],
      "text/plain": [
       "Apply a CSS-styling function elementwise.\n"
      ]
     },
     "metadata": {},
     "output_type": "display_data"
    },
    {
     "data": {
      "text/html": [
       "<style type=\"text/css\">\n",
       "#T_cc2e3_row0_col1, #T_cc2e3_row0_col3, #T_cc2e3_row1_col0, #T_cc2e3_row1_col1, #T_cc2e3_row1_col2, #T_cc2e3_row1_col3, #T_cc2e3_row2_col1, #T_cc2e3_row2_col2 {\n",
       "  background-color: #a0e7e5;\n",
       "}\n",
       "</style>\n",
       "<table id=\"T_cc2e3\">\n",
       "  <thead>\n",
       "    <tr>\n",
       "      <th class=\"blank level0\" >&nbsp;</th>\n",
       "      <th id=\"T_cc2e3_level0_col0\" class=\"col_heading level0 col0\" >A</th>\n",
       "      <th id=\"T_cc2e3_level0_col1\" class=\"col_heading level0 col1\" >B</th>\n",
       "      <th id=\"T_cc2e3_level0_col2\" class=\"col_heading level0 col2\" >C</th>\n",
       "      <th id=\"T_cc2e3_level0_col3\" class=\"col_heading level0 col3\" >D</th>\n",
       "    </tr>\n",
       "  </thead>\n",
       "  <tbody>\n",
       "    <tr>\n",
       "      <th id=\"T_cc2e3_level0_row0\" class=\"row_heading level0 row0\" >0</th>\n",
       "      <td id=\"T_cc2e3_row0_col0\" class=\"data row0 col0\" >0.976700</td>\n",
       "      <td id=\"T_cc2e3_row0_col1\" class=\"data row0 col1\" >0.380196</td>\n",
       "      <td id=\"T_cc2e3_row0_col2\" class=\"data row0 col2\" >0.923246</td>\n",
       "      <td id=\"T_cc2e3_row0_col3\" class=\"data row0 col3\" >0.261692</td>\n",
       "    </tr>\n",
       "    <tr>\n",
       "      <th id=\"T_cc2e3_level0_row1\" class=\"row_heading level0 row1\" >1</th>\n",
       "      <td id=\"T_cc2e3_row1_col0\" class=\"data row1 col0\" >0.319097</td>\n",
       "      <td id=\"T_cc2e3_row1_col1\" class=\"data row1 col1\" >0.118091</td>\n",
       "      <td id=\"T_cc2e3_row1_col2\" class=\"data row1 col2\" >0.241766</td>\n",
       "      <td id=\"T_cc2e3_row1_col3\" class=\"data row1 col3\" >0.318534</td>\n",
       "    </tr>\n",
       "    <tr>\n",
       "      <th id=\"T_cc2e3_level0_row2\" class=\"row_heading level0 row2\" >2</th>\n",
       "      <td id=\"T_cc2e3_row2_col0\" class=\"data row2 col0\" >0.964079</td>\n",
       "      <td id=\"T_cc2e3_row2_col1\" class=\"data row2 col1\" >0.263650</td>\n",
       "      <td id=\"T_cc2e3_row2_col2\" class=\"data row2 col2\" >0.441006</td>\n",
       "      <td id=\"T_cc2e3_row2_col3\" class=\"data row2 col3\" >0.609871</td>\n",
       "    </tr>\n",
       "    <tr>\n",
       "      <th id=\"T_cc2e3_level0_row3\" class=\"row_heading level0 row3\" >3</th>\n",
       "      <td id=\"T_cc2e3_row3_col0\" class=\"data row3 col0\" >0.863621</td>\n",
       "      <td id=\"T_cc2e3_row3_col1\" class=\"data row3 col1\" >0.863758</td>\n",
       "      <td id=\"T_cc2e3_row3_col2\" class=\"data row3 col2\" >0.674881</td>\n",
       "      <td id=\"T_cc2e3_row3_col3\" class=\"data row3 col3\" >0.659874</td>\n",
       "    </tr>\n",
       "  </tbody>\n",
       "</table>\n"
      ],
      "text/plain": [
       "<pandas.io.formats.style.Styler at 0x25796cd7100>"
      ]
     },
     "execution_count": 20,
     "metadata": {},
     "output_type": "execute_result"
    }
   ],
   "source": [
    "style = df.copy().style\n",
    "print(style.applymap.__doc__[:50].strip())\n",
    "\n",
    "style.applymap(\n",
    "    lambda value: f\"background-color: #a0e7e5;\"\n",
    "    if value < 0.5 else None\n",
    ")"
   ]
  },
  {
   "cell_type": "code",
   "execution_count": 21,
   "id": "ece33bed-9ef6-486d-8350-97cc47e7838e",
   "metadata": {
    "slideshow": {
     "slide_type": "subslide"
    },
    "tags": []
   },
   "outputs": [
    {
     "data": {
      "text/html": [
       "<pre style=\"white-space:pre;overflow-x:auto;line-height:normal;font-family:Menlo,'DejaVu Sans Mono',consolas,'Courier New',monospace\">Apply a CSS-styling function to the index or column headers, level-wise.\n",
       "</pre>\n"
      ],
      "text/plain": [
       "Apply a CSS-styling function to the index or column headers, level-wise.\n"
      ]
     },
     "metadata": {},
     "output_type": "display_data"
    },
    {
     "data": {
      "text/html": [
       "<style type=\"text/css\">\n",
       "#T_5ff1c_level0_col0, #T_5ff1c_level0_col1, #T_5ff1c_level0_col2, #T_5ff1c_level0_col3 {\n",
       "  background-color: #254b7f;\n",
       "  color: white;\n",
       "}\n",
       "</style>\n",
       "<table id=\"T_5ff1c\">\n",
       "  <thead>\n",
       "    <tr>\n",
       "      <th class=\"blank level0\" >&nbsp;</th>\n",
       "      <th id=\"T_5ff1c_level0_col0\" class=\"col_heading level0 col0\" >A</th>\n",
       "      <th id=\"T_5ff1c_level0_col1\" class=\"col_heading level0 col1\" >B</th>\n",
       "      <th id=\"T_5ff1c_level0_col2\" class=\"col_heading level0 col2\" >C</th>\n",
       "      <th id=\"T_5ff1c_level0_col3\" class=\"col_heading level0 col3\" >D</th>\n",
       "    </tr>\n",
       "  </thead>\n",
       "  <tbody>\n",
       "    <tr>\n",
       "      <th id=\"T_5ff1c_level0_row0\" class=\"row_heading level0 row0\" >0</th>\n",
       "      <td id=\"T_5ff1c_row0_col0\" class=\"data row0 col0\" >0.976700</td>\n",
       "      <td id=\"T_5ff1c_row0_col1\" class=\"data row0 col1\" >0.380196</td>\n",
       "      <td id=\"T_5ff1c_row0_col2\" class=\"data row0 col2\" >0.923246</td>\n",
       "      <td id=\"T_5ff1c_row0_col3\" class=\"data row0 col3\" >0.261692</td>\n",
       "    </tr>\n",
       "    <tr>\n",
       "      <th id=\"T_5ff1c_level0_row1\" class=\"row_heading level0 row1\" >1</th>\n",
       "      <td id=\"T_5ff1c_row1_col0\" class=\"data row1 col0\" >0.319097</td>\n",
       "      <td id=\"T_5ff1c_row1_col1\" class=\"data row1 col1\" >0.118091</td>\n",
       "      <td id=\"T_5ff1c_row1_col2\" class=\"data row1 col2\" >0.241766</td>\n",
       "      <td id=\"T_5ff1c_row1_col3\" class=\"data row1 col3\" >0.318534</td>\n",
       "    </tr>\n",
       "    <tr>\n",
       "      <th id=\"T_5ff1c_level0_row2\" class=\"row_heading level0 row2\" >2</th>\n",
       "      <td id=\"T_5ff1c_row2_col0\" class=\"data row2 col0\" >0.964079</td>\n",
       "      <td id=\"T_5ff1c_row2_col1\" class=\"data row2 col1\" >0.263650</td>\n",
       "      <td id=\"T_5ff1c_row2_col2\" class=\"data row2 col2\" >0.441006</td>\n",
       "      <td id=\"T_5ff1c_row2_col3\" class=\"data row2 col3\" >0.609871</td>\n",
       "    </tr>\n",
       "    <tr>\n",
       "      <th id=\"T_5ff1c_level0_row3\" class=\"row_heading level0 row3\" >3</th>\n",
       "      <td id=\"T_5ff1c_row3_col0\" class=\"data row3 col0\" >0.863621</td>\n",
       "      <td id=\"T_5ff1c_row3_col1\" class=\"data row3 col1\" >0.863758</td>\n",
       "      <td id=\"T_5ff1c_row3_col2\" class=\"data row3 col2\" >0.674881</td>\n",
       "      <td id=\"T_5ff1c_row3_col3\" class=\"data row3 col3\" >0.659874</td>\n",
       "    </tr>\n",
       "  </tbody>\n",
       "</table>\n"
      ],
      "text/plain": [
       "<pandas.io.formats.style.Styler at 0x25796cd5960>"
      ]
     },
     "execution_count": 21,
     "metadata": {},
     "output_type": "execute_result"
    }
   ],
   "source": [
    "style = df.copy().style\n",
    "print(style.apply_index.__doc__[:75].strip())\n",
    "\n",
    "s = \"background-color: #254b7f; color: white;\"\n",
    "style.apply_index(lambda _: [s] * 4, axis=1)"
   ]
  },
  {
   "cell_type": "code",
   "execution_count": 22,
   "id": "8c1ae605-4218-49c5-9172-e045523e056a",
   "metadata": {
    "slideshow": {
     "slide_type": "subslide"
    },
    "tags": []
   },
   "outputs": [
    {
     "data": {
      "text/html": [
       "<pre style=\"white-space:pre;overflow-x:auto;line-height:normal;font-family:Menlo,'DejaVu Sans Mono',consolas,'Courier New',monospace\">Apply a CSS-styling function to the index or column headers, elementwise.\n",
       "</pre>\n"
      ],
      "text/plain": [
       "Apply a CSS-styling function to the index or column headers, elementwise.\n"
      ]
     },
     "metadata": {},
     "output_type": "display_data"
    },
    {
     "data": {
      "text/html": [
       "<style type=\"text/css\">\n",
       "#T_f345c_level0_row0, #T_f345c_level0_row2 {\n",
       "  background-color: #254b7f;\n",
       "  color: white;\n",
       "}\n",
       "</style>\n",
       "<table id=\"T_f345c\">\n",
       "  <thead>\n",
       "    <tr>\n",
       "      <th class=\"blank level0\" >&nbsp;</th>\n",
       "      <th id=\"T_f345c_level0_col0\" class=\"col_heading level0 col0\" >A</th>\n",
       "      <th id=\"T_f345c_level0_col1\" class=\"col_heading level0 col1\" >B</th>\n",
       "      <th id=\"T_f345c_level0_col2\" class=\"col_heading level0 col2\" >C</th>\n",
       "      <th id=\"T_f345c_level0_col3\" class=\"col_heading level0 col3\" >D</th>\n",
       "    </tr>\n",
       "  </thead>\n",
       "  <tbody>\n",
       "    <tr>\n",
       "      <th id=\"T_f345c_level0_row0\" class=\"row_heading level0 row0\" >0</th>\n",
       "      <td id=\"T_f345c_row0_col0\" class=\"data row0 col0\" >0.976700</td>\n",
       "      <td id=\"T_f345c_row0_col1\" class=\"data row0 col1\" >0.380196</td>\n",
       "      <td id=\"T_f345c_row0_col2\" class=\"data row0 col2\" >0.923246</td>\n",
       "      <td id=\"T_f345c_row0_col3\" class=\"data row0 col3\" >0.261692</td>\n",
       "    </tr>\n",
       "    <tr>\n",
       "      <th id=\"T_f345c_level0_row1\" class=\"row_heading level0 row1\" >1</th>\n",
       "      <td id=\"T_f345c_row1_col0\" class=\"data row1 col0\" >0.319097</td>\n",
       "      <td id=\"T_f345c_row1_col1\" class=\"data row1 col1\" >0.118091</td>\n",
       "      <td id=\"T_f345c_row1_col2\" class=\"data row1 col2\" >0.241766</td>\n",
       "      <td id=\"T_f345c_row1_col3\" class=\"data row1 col3\" >0.318534</td>\n",
       "    </tr>\n",
       "    <tr>\n",
       "      <th id=\"T_f345c_level0_row2\" class=\"row_heading level0 row2\" >2</th>\n",
       "      <td id=\"T_f345c_row2_col0\" class=\"data row2 col0\" >0.964079</td>\n",
       "      <td id=\"T_f345c_row2_col1\" class=\"data row2 col1\" >0.263650</td>\n",
       "      <td id=\"T_f345c_row2_col2\" class=\"data row2 col2\" >0.441006</td>\n",
       "      <td id=\"T_f345c_row2_col3\" class=\"data row2 col3\" >0.609871</td>\n",
       "    </tr>\n",
       "    <tr>\n",
       "      <th id=\"T_f345c_level0_row3\" class=\"row_heading level0 row3\" >3</th>\n",
       "      <td id=\"T_f345c_row3_col0\" class=\"data row3 col0\" >0.863621</td>\n",
       "      <td id=\"T_f345c_row3_col1\" class=\"data row3 col1\" >0.863758</td>\n",
       "      <td id=\"T_f345c_row3_col2\" class=\"data row3 col2\" >0.674881</td>\n",
       "      <td id=\"T_f345c_row3_col3\" class=\"data row3 col3\" >0.659874</td>\n",
       "    </tr>\n",
       "  </tbody>\n",
       "</table>\n"
      ],
      "text/plain": [
       "<pandas.io.formats.style.Styler at 0x25796cd5660>"
      ]
     },
     "execution_count": 22,
     "metadata": {},
     "output_type": "execute_result"
    }
   ],
   "source": [
    "style = df.copy().style\n",
    "print(style.applymap_index.__doc__[:75].strip())\n",
    "\n",
    "bg_color = '#254b7f'\n",
    "font_color = 'white'\n",
    "style.applymap_index(\n",
    "    lambda value, bg, font: f\"background-color: {bg}; color: {font};\" if value % 2 == 0 else None,\n",
    "    bg=bg_color, font=font_color)"
   ]
  },
  {
   "cell_type": "markdown",
   "id": "306a3fb5-f7a8-4e42-8953-65721232eb25",
   "metadata": {
    "slideshow": {
     "slide_type": "slide"
    },
    "tags": []
   },
   "source": [
    "## What to Do From Here?"
   ]
  },
  {
   "cell_type": "markdown",
   "id": "d8253b96-dff3-42de-b43a-ef2f9665bb01",
   "metadata": {
    "slideshow": {
     "slide_type": "subslide"
    },
    "tags": []
   },
   "source": [
    "### nbconvert\n",
    "\n",
    "nbconvert is a tool that converts Jupyter Notebook into various other formats, such as HTML, PDF, mardown and Python scripts."
   ]
  },
  {
   "cell_type": "markdown",
   "id": "0da33684-a4c0-4e1e-9040-12d9399033ef",
   "metadata": {
    "slideshow": {
     "slide_type": "subslide"
    },
    "tags": []
   },
   "source": [
    "### papermill\n",
    "\n",
    "papermill is a Python library that parameterizes Jupyter notebooks."
   ]
  },
  {
   "cell_type": "markdown",
   "id": "7f221ee4-9946-45d1-b2cf-c32c97beb2de",
   "metadata": {
    "slideshow": {
     "slide_type": "slide"
    },
    "tags": []
   },
   "source": [
    "## Summary\n",
    "\n",
    "- Jupyter Notebook/Lab provides a powerful platform to interact and experiment with data. Being a web application, it can harness the inherent power that a web browser has.\n",
    "- CSS tells the browser how an object should look like.\n",
    "- The `_repr_html_` method defines how an object is represented. Libraries are taking advantage of this fact to improve DX."
   ]
  },
  {
   "cell_type": "markdown",
   "id": "d5fe91e5-5090-499d-8796-18c857be2d11",
   "metadata": {
    "slideshow": {
     "slide_type": "slide"
    },
    "tags": []
   },
   "source": [
    "## Learn More!\n",
    "\n",
    "- Look up: HTML5, semantic HTML\n",
    "- CSS Frameworks, ~~[State of CSS](https://stateofcss.com/en-us/)~~\n",
    "- Mozilla MDN docs\n",
    "- pandas Official Docs Guide on [Table Visualization](https://pandas.pydata.org/pandas-docs/stable/user_guide/style.html)"
   ]
  },
  {
   "cell_type": "markdown",
   "id": "eb67ae14-43a1-470e-82ab-7994d0af98b0",
   "metadata": {
    "slideshow": {
     "slide_type": "slide"
    },
    "tags": []
   },
   "source": [
    "# &#35;"
   ]
  },
  {
   "cell_type": "markdown",
   "id": "c4cf00d2-4619-4d1e-a335-148618401518",
   "metadata": {
    "slideshow": {
     "slide_type": "slide"
    },
    "tags": []
   },
   "source": [
    "## Appendix"
   ]
  },
  {
   "cell_type": "markdown",
   "id": "2fe5239e-4dea-4ebe-9dae-08450d2d4b78",
   "metadata": {
    "slideshow": {
     "slide_type": "subslide"
    },
    "tags": []
   },
   "source": [
    "The DOM tree\n",
    "\n",
    "📷 Wikipedia\n",
    "\n",
    "[![](https://upload.wikimedia.org/wikipedia/commons/5/5a/DOM-model.svg)]()"
   ]
  },
  {
   "cell_type": "code",
   "execution_count": null,
   "id": "bdedabf3-a1ee-4453-83fd-1aa639a286c8",
   "metadata": {},
   "outputs": [],
   "source": []
  },
  {
   "cell_type": "code",
   "execution_count": null,
   "id": "200747ef-4e5c-4cbe-8d10-813f3499a83d",
   "metadata": {},
   "outputs": [],
   "source": []
  }
 ],
 "metadata": {
  "kernelspec": {
   "display_name": "Python 3 (ipykernel)",
   "language": "python",
   "name": "python3"
  },
  "language_info": {
   "codemirror_mode": {
    "name": "ipython",
    "version": 3
   },
   "file_extension": ".py",
   "mimetype": "text/x-python",
   "name": "python",
   "nbconvert_exporter": "python",
   "pygments_lexer": "ipython3",
   "version": "3.10.0"
  },
  "toc-showcode": false,
  "toc-showtags": true,
  "vscode": {
   "interpreter": {
    "hash": "770454e0fd66afe04094226400251093a393e01628c04941827927ac9b8ea754"
   }
  }
 },
 "nbformat": 4,
 "nbformat_minor": 5
}
